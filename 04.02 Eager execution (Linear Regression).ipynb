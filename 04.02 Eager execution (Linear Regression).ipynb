{
 "cells": [
  {
   "cell_type": "markdown",
   "metadata": {},
   "source": [
    "# 04.02 Eager execution (Linear Regression)"
   ]
  },
  {
   "cell_type": "markdown",
   "metadata": {},
   "source": [
    "### Import 부분"
   ]
  },
  {
   "cell_type": "code",
   "execution_count": 8,
   "metadata": {},
   "outputs": [],
   "source": [
    "import tensorflow as tf\n",
    "import tensorflow.contrib.eager as tfe\n",
    "import matplotlib.pyplot as plt\n",
    "\n",
    "\n",
    "import time\n",
    "import numpy as np"
   ]
  },
  {
   "cell_type": "code",
   "execution_count": 2,
   "metadata": {},
   "outputs": [],
   "source": [
    "DATA_FILE = 'data/birth_life_2010.txt'"
   ]
  },
  {
   "cell_type": "code",
   "execution_count": 9,
   "metadata": {},
   "outputs": [],
   "source": [
    "def read_birth_life_data(filename):\n",
    "    \"\"\"\n",
    "    Read in birth_life_2010.txt and return:\n",
    "    data in the form of NumPy array\n",
    "    n_samples: number of samples\n",
    "    \"\"\"\n",
    "    text = open(filename, 'r').readlines()[1:]\n",
    "    data = [line[:-1].split('\\t') for line in text]\n",
    "    births = [float(line[1]) for line in data]\n",
    "    lifes = [float(line[2]) for line in data]\n",
    "    data = list(zip(births, lifes))\n",
    "    n_samples = len(data)\n",
    "    data = np.asarray(data, dtype=np.float32)\n",
    "    return data, n_samples"
   ]
  },
  {
   "cell_type": "markdown",
   "metadata": {},
   "source": [
    "### Eager Execution 실행"
   ]
  },
  {
   "cell_type": "code",
   "execution_count": 4,
   "metadata": {},
   "outputs": [],
   "source": [
    "# Tensorflow 처음에 호출한다.\n",
    "tfe.enable_eager_execution()"
   ]
  },
  {
   "cell_type": "code",
   "execution_count": 10,
   "metadata": {},
   "outputs": [],
   "source": [
    "# 데이터 세트 읽어 오기\n",
    "data, n_samples = read_birth_life_data(DATA_FILE)\n",
    "dataset = tf.data.Dataset.from_tensor_slices((data[:,0], data[:,1]))"
   ]
  },
  {
   "cell_type": "code",
   "execution_count": 11,
   "metadata": {},
   "outputs": [],
   "source": [
    "# 변수 만들기\n",
    "w = tfe.Variable(0.0)\n",
    "b = tfe.Variable(0.0)"
   ]
  },
  {
   "cell_type": "code",
   "execution_count": 12,
   "metadata": {},
   "outputs": [],
   "source": [
    "# 선형 예측을 정의 한다.\n",
    "def prediction(x):\n",
    "    return x * w + b"
   ]
  },
  {
   "cell_type": "code",
   "execution_count": 13,
   "metadata": {},
   "outputs": [],
   "source": [
    "# 손실 함수 정의 (y, y_predicted)\n",
    "def squared_loss(y, y_predicted):\n",
    "    return (y - y_predicted) ** 2"
   ]
  },
  {
   "cell_type": "code",
   "execution_count": 15,
   "metadata": {},
   "outputs": [],
   "source": [
    "def huber_loss(y, y_predicted, m=1.0):\n",
    "    \"\"\"Huber loss\"\"\"\n",
    "    t = y - y_predicted\n",
    "    # eager mode가 동작 되고 있으므로 python가 똑같은 흐름을 갖는다.\n",
    "    return t ** 2 if tf.abs(t) <= m else m * ( 2 * tf.abs(t) - m)"
   ]
  },
  {
   "cell_type": "code",
   "execution_count": 19,
   "metadata": {},
   "outputs": [],
   "source": [
    "def train(loss_fn):\n",
    "    \"\"\" regression 모델이 평가 할때 loss_fn 사용한다. \"\"\"\n",
    "    print('Training: loss function: '+ loss_fn.__name__)\n",
    "    optimizer = tf.train.GradientDescentOptimizer(learning_rate=0.01)\n",
    "    # 차별화 할 기능을 정의합니다.\n",
    "    def loss_for_example(x, y):\n",
    "        return loss_fn(y, prediction(x))\n",
    "    # 값을 반환하고 변수의 기울기를 계산한다.\n",
    "    grad_fn = tfe.implicit_value_and_gradients(loss_for_example)\n",
    "    start = time.time()\n",
    "    for epoch in range(100):\n",
    "        total_loss = 0.0\n",
    "        for x_i, y_i in tfe.Iterator(dataset):\n",
    "            loss, gradients = grad_fn(x_i, y_i) # 특이한 구조이다.\n",
    "            # 옵티마이져가 스텝마다 loss 와 gradients를 가져간다. 그리고 변수를 업데이트 한다.\n",
    "            optimizer.apply_gradients(gradients)\n",
    "            total_loss += loss\n",
    "        if epoch % 10 == 0:\n",
    "            print('Epoch {0}: {1}'.format(epoch, total_loss / n_samples))\n",
    "    print('Took: %f seconds' % (time.time() - start))\n",
    "    print('Eager execution exhibits significant overhead per operation. '\n",
    "            'As you increase your batch size, the impact of the overhead will '\n",
    "            'become less noticeable. Eager execution is under active development: '\n",
    "            'expect performance to increase substantially in the near future!')"
   ]
  },
  {
   "cell_type": "code",
   "execution_count": 20,
   "metadata": {},
   "outputs": [
    {
     "name": "stdout",
     "output_type": "stream",
     "text": [
      "Training: loss function: huber_loss\n",
      "Epoch 0: 106.16918182373047\n",
      "Epoch 10: 53.64773178100586\n",
      "Epoch 20: 42.586669921875\n",
      "Epoch 30: 31.845298767089844\n",
      "Epoch 40: 21.576385498046875\n",
      "Epoch 50: 12.379732131958008\n",
      "Epoch 60: 8.386137962341309\n",
      "Epoch 70: 7.563107013702393\n",
      "Epoch 80: 7.398852348327637\n",
      "Epoch 90: 7.382768630981445\n",
      "Took: 14.438990 seconds\n",
      "Eager execution exhibits significant overhead per operation. As you increase your batch size, the impact of the overhead will become less noticeable. Eager execution is under active development: expect performance to increase substantially in the near future!\n"
     ]
    }
   ],
   "source": [
    "train(huber_loss)"
   ]
  },
  {
   "cell_type": "code",
   "execution_count": 21,
   "metadata": {},
   "outputs": [
    {
     "data": {
      "image/png": "[encoded data removed]",
      "text/plain": [
       "<Figure size 432x288 with 1 Axes>"
      ]
     },
     "metadata": {},
     "output_type": "display_data"
    }
   ],
   "source": [
    "plt.plot(data[:,0], data[:,1], 'bo')\n",
    "plt.plot(data[:,0], data[:,0] * w.numpy() + b.numpy(), 'r', label=\"huber regression\")\n",
    "plt.legend()\n",
    "plt.show()"
   ]
  }
 ],
 "metadata": {
  "kernelspec": {
   "display_name": "Python 3",
   "language": "python",
   "name": "python3"
  },
  "language_info": {
   "codemirror_mode": {
    "name": "ipython",
    "version": 3
   },
   "file_extension": ".py",
   "mimetype": "text/x-python",
   "name": "python",
   "nbconvert_exporter": "python",
   "pygments_lexer": "ipython3",
   "version": "3.6.4"
  }
 },
 "nbformat": 4,
 "nbformat_minor": 2
}
