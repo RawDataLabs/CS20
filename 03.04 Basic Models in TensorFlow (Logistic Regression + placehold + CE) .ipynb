{
 "cells": [
  {
   "cell_type": "markdown",
   "metadata": {},
   "source": [
    "# 03.04 Basic Models in TensorFlow (Logistic Regression + placehold + CE) "
   ]
  },
  {
   "cell_type": "markdown",
   "metadata": {},
   "source": [
    "### import 구문"
   ]
  },
  {
   "cell_type": "code",
   "execution_count": 1,
   "metadata": {},
   "outputs": [],
   "source": [
    "import os\n",
    "os.environ['TF_CPP_MIN_LOG_LEVEL'] = '2'"
   ]
  },
  {
   "cell_type": "code",
   "execution_count": 3,
   "metadata": {},
   "outputs": [],
   "source": [
    "import numpy as np\n",
    "import tensorflow as tf\n",
    "from tensorflow.examples.tutorials.mnist import input_data\n",
    "import time"
   ]
  },
  {
   "cell_type": "markdown",
   "metadata": {},
   "source": [
    "### 모델의 파라메터들을 선언"
   ]
  },
  {
   "cell_type": "code",
   "execution_count": 4,
   "metadata": {},
   "outputs": [],
   "source": [
    "learning_rate = 0.01\n",
    "batch_size = 128\n",
    "n_epochs = 30"
   ]
  },
  {
   "cell_type": "markdown",
   "metadata": {},
   "source": [
    "### Step 1: 데이터를 읽는다."
   ]
  },
  {
   "cell_type": "code",
   "execution_count": 5,
   "metadata": {},
   "outputs": [
    {
     "name": "stdout",
     "output_type": "stream",
     "text": [
      "WARNING:tensorflow:From <ipython-input-5-6018ce7546a0>:2: read_data_sets (from tensorflow.contrib.learn.python.learn.datasets.mnist) is deprecated and will be removed in a future version.\n",
      "Instructions for updating:\n",
      "Please use alternatives such as official/mnist/dataset.py from tensorflow/models.\n",
      "WARNING:tensorflow:From /Users/JunChangWook/anaconda2/envs/py36/lib/python3.6/site-packages/tensorflow/contrib/learn/python/learn/datasets/mnist.py:260: maybe_download (from tensorflow.contrib.learn.python.learn.datasets.base) is deprecated and will be removed in a future version.\n",
      "Instructions for updating:\n",
      "Please write your own downloading logic.\n",
      "WARNING:tensorflow:From /Users/JunChangWook/anaconda2/envs/py36/lib/python3.6/site-packages/tensorflow/contrib/learn/python/learn/datasets/base.py:252: _internal_retry.<locals>.wrap.<locals>.wrapped_fn (from tensorflow.contrib.learn.python.learn.datasets.base) is deprecated and will be removed in a future version.\n",
      "Instructions for updating:\n",
      "Please use urllib or similar directly.\n",
      "Successfully downloaded train-images-idx3-ubyte.gz 9912422 bytes.\n",
      "WARNING:tensorflow:From /Users/JunChangWook/anaconda2/envs/py36/lib/python3.6/site-packages/tensorflow/contrib/learn/python/learn/datasets/mnist.py:262: extract_images (from tensorflow.contrib.learn.python.learn.datasets.mnist) is deprecated and will be removed in a future version.\n",
      "Instructions for updating:\n",
      "Please use tf.data to implement this functionality.\n",
      "Extracting data/minst/train-images-idx3-ubyte.gz\n",
      "Successfully downloaded train-labels-idx1-ubyte.gz 28881 bytes.\n",
      "WARNING:tensorflow:From /Users/JunChangWook/anaconda2/envs/py36/lib/python3.6/site-packages/tensorflow/contrib/learn/python/learn/datasets/mnist.py:267: extract_labels (from tensorflow.contrib.learn.python.learn.datasets.mnist) is deprecated and will be removed in a future version.\n",
      "Instructions for updating:\n",
      "Please use tf.data to implement this functionality.\n",
      "Extracting data/minst/train-labels-idx1-ubyte.gz\n",
      "WARNING:tensorflow:From /Users/JunChangWook/anaconda2/envs/py36/lib/python3.6/site-packages/tensorflow/contrib/learn/python/learn/datasets/mnist.py:110: dense_to_one_hot (from tensorflow.contrib.learn.python.learn.datasets.mnist) is deprecated and will be removed in a future version.\n",
      "Instructions for updating:\n",
      "Please use tf.one_hot on tensors.\n",
      "Successfully downloaded t10k-images-idx3-ubyte.gz 1648877 bytes.\n",
      "Extracting data/minst/t10k-images-idx3-ubyte.gz\n",
      "Successfully downloaded t10k-labels-idx1-ubyte.gz 4542 bytes.\n",
      "Extracting data/minst/t10k-labels-idx1-ubyte.gz\n",
      "WARNING:tensorflow:From /Users/JunChangWook/anaconda2/envs/py36/lib/python3.6/site-packages/tensorflow/contrib/learn/python/learn/datasets/mnist.py:290: DataSet.__init__ (from tensorflow.contrib.learn.python.learn.datasets.mnist) is deprecated and will be removed in a future version.\n",
      "Instructions for updating:\n",
      "Please use alternatives such as official/mnist/dataset.py from tensorflow/models.\n"
     ]
    }
   ],
   "source": [
    "# TF Learn's에 있는 함수로 MNIST 데이터를 data/mnist에 가져온다.\n",
    "mnist = input_data.read_data_sets('data/minst', one_hot=True) # one hot으로 정답이 표현된 값이다.\n",
    "X_batch, Y_batch = mnist.train.next_batch(batch_size) # 배치 사이즈 만큼 가져온다."
   ]
  },
  {
   "cell_type": "markdown",
   "metadata": {},
   "source": [
    "### Step 2: placeholders를 만든다."
   ]
  },
  {
   "cell_type": "code",
   "execution_count": 6,
   "metadata": {},
   "outputs": [],
   "source": [
    "# 각 이미지 MNIST 데이터의 형태는 28*28 = 784 이다.\n",
    "# 그러므로, 각 이미지의 표현은 1*784 tensor로 표현한다.\n",
    "# 각이미지의 10개의 종류 중 하나이며 , 숫자 0-9 사이 하나와 일치한다.\n",
    "# 각 라벨은 one hot vector 이다.\n",
    "X = tf.placeholder(tf.float32, [batch_size, 784], name='image')\n",
    "Y = tf.placeholder(tf.int32, [batch_size, 10], name='label')"
   ]
  },
  {
   "cell_type": "markdown",
   "metadata": {},
   "source": [
    "### Step 3: weights 와 bias를 만든다."
   ]
  },
  {
   "cell_type": "code",
   "execution_count": 7,
   "metadata": {},
   "outputs": [],
   "source": [
    "# 평균이 0이고 표준편차가 0.01인 랜덤한 w로 초기화 한다.\n",
    "# b는 초기화 0으로 한다.\n",
    "# w는 X와 Y에 의존하므로 Y = tf.matmul(X, w) 한다.\n",
    "# b는 Y에 의존적이다.\n",
    "w = tf.get_variable(name='weights', shape=(784, 10), initializer=tf.random_normal_initializer(0, 0.01))\n",
    "b = tf.get_variable(name='bias', shape=(1, 10), initializer=tf.zeros_initializer())"
   ]
  },
  {
   "cell_type": "markdown",
   "metadata": {},
   "source": [
    "### Step 4: 모델 구성"
   ]
  },
  {
   "cell_type": "code",
   "execution_count": 8,
   "metadata": {},
   "outputs": [],
   "source": [
    "# 모델은 log를 리턴한다.\n",
    "# 해당 log는 나중에 softmax layer를 통과한다.\n",
    "logits = tf.matmul(X, w) + b"
   ]
  },
  {
   "cell_type": "markdown",
   "metadata": {},
   "source": [
    "### Step 5: 손실 함수 정의"
   ]
  },
  {
   "cell_type": "code",
   "execution_count": 9,
   "metadata": {},
   "outputs": [],
   "source": [
    "# 손실 함수로서 softmax_cross_entropy_with_logits를 사용한다.\n",
    "entropy = tf.nn.softmax_cross_entropy_with_logits_v2(logits=logits, labels=Y, name='loss')\n",
    "loss = tf.reduce_mean(entropy) # 배치의 모든 값에 대한 평균을 계산한다."
   ]
  },
  {
   "cell_type": "markdown",
   "metadata": {},
   "source": [
    "### Step 6: 훈련 옵티마이져 선언"
   ]
  },
  {
   "cell_type": "code",
   "execution_count": 10,
   "metadata": {},
   "outputs": [],
   "source": [
    "# 아담 옵티마이져를 사용한다. loss가 최소가 될때 까지 0.01씩 gradient descent를 진행 한다 .\n",
    "optimizer = tf.train.AdamOptimizer(learning_rate).minimize(loss)"
   ]
  },
  {
   "cell_type": "markdown",
   "metadata": {},
   "source": [
    "### Step 7: 테스트 세트를 통해서 정확도를 계산한다."
   ]
  },
  {
   "cell_type": "code",
   "execution_count": 11,
   "metadata": {},
   "outputs": [],
   "source": [
    "preds = tf.nn.softmax(logits)\n",
    "correct_preds = tf.equal(tf.argmax(preds, 1), tf.argmax(Y, 1))\n",
    "accuracy = tf.reduce_sum(tf.cast(correct_preds, tf.float32))"
   ]
  },
  {
   "cell_type": "code",
   "execution_count": 12,
   "metadata": {},
   "outputs": [
    {
     "name": "stdout",
     "output_type": "stream",
     "text": [
      "Average loss epoch 0: 0.367365970408722\n",
      "Average loss epoch 1: 0.29471331838266557\n",
      "Average loss epoch 2: 0.2885190508304498\n",
      "Average loss epoch 3: 0.27809937867946\n",
      "Average loss epoch 4: 0.27509605710878793\n",
      "Average loss epoch 5: 0.27040455556346543\n",
      "Average loss epoch 6: 0.27115142989756064\n",
      "Average loss epoch 7: 0.2689427288296895\n",
      "Average loss epoch 8: 0.26644441096376986\n",
      "Average loss epoch 9: 0.26742811810164463\n",
      "Average loss epoch 10: 0.26422464467220375\n",
      "Average loss epoch 11: 0.26262947395964936\n",
      "Average loss epoch 12: 0.2626580724488327\n",
      "Average loss epoch 13: 0.2569377312397623\n",
      "Average loss epoch 14: 0.2593336058107567\n",
      "Average loss epoch 15: 0.2582681898401056\n",
      "Average loss epoch 16: 0.26080711442968507\n",
      "Average loss epoch 17: 0.25938706289290825\n",
      "Average loss epoch 18: 0.25599642653704247\n",
      "Average loss epoch 19: 0.2542679260695453\n",
      "Average loss epoch 20: 0.2589911801310686\n",
      "Average loss epoch 21: 0.25336476512652734\n",
      "Average loss epoch 22: 0.2584623379029316\n",
      "Average loss epoch 23: 0.2523753197043092\n",
      "Average loss epoch 24: 0.2560837076746778\n",
      "Average loss epoch 25: 0.2514972567627758\n",
      "Average loss epoch 26: 0.25367617207668325\n",
      "Average loss epoch 27: 0.2533563452062907\n",
      "Average loss epoch 28: 0.25466678097045226\n",
      "Average loss epoch 29: 0.25428180875894907\n",
      "Total time: 13.410120248794556 seconds\n",
      "Accuracy 0.9183\n"
     ]
    }
   ],
   "source": [
    "writer = tf.summary.FileWriter('./graphs/logreg_placeholder', tf.get_default_graph())\n",
    "with tf.Session() as sess:\n",
    "    start_time = time.time()\n",
    "    sess.run(tf.global_variables_initializer())\n",
    "    n_batches = int(mnist.train.num_examples/batch_size) # 전체 데이터를 몇번의 iterator를 해야 하는지 계산한다.\n",
    "    \n",
    "    # 훈련 모델 몇번 epochs 할지\n",
    "    for i in range(n_epochs):\n",
    "        total_loss = 0\n",
    "        \n",
    "        for j in range(n_batches):\n",
    "            X_batch, Y_batch = mnist.train.next_batch(batch_size) # 배치 크기 만큼 다음 데이터를 가져온다.\n",
    "            _, loss_batch = sess.run([optimizer, loss], {X: X_batch, Y: Y_batch}) # 배치 전체의 손실을 가져온다. Placehold구문에서는 해당 부분 처럼 값을 넣어준다.\n",
    "            total_loss += loss_batch \n",
    "        print('Average loss epoch {0}: {1}'.format(i, total_loss/n_batches))\n",
    "    print('Total time: {0} seconds'.format(time.time() - start_time))\n",
    "    \n",
    "    # 테스트 모델\n",
    "    n_batches = int(mnist.test.num_examples/batch_size)\n",
    "    total_correct_preds = 0\n",
    "    \n",
    "    for i in range(n_batches):\n",
    "        X_batch, Y_batch = mnist.test.next_batch(batch_size)\n",
    "        accuracy_batch = sess.run(accuracy, {X: X_batch, Y: Y_batch})\n",
    "        total_correct_preds += accuracy_batch\n",
    "        \n",
    "    print('Accuracy {0}'.format(total_correct_preds/mnist.test.num_examples))\n",
    "writer.close()"
   ]
  },
  {
   "cell_type": "code",
   "execution_count": null,
   "metadata": {},
   "outputs": [],
   "source": []
  }
 ],
 "metadata": {
  "kernelspec": {
   "display_name": "Python 3",
   "language": "python",
   "name": "python3"
  },
  "language_info": {
   "codemirror_mode": {
    "name": "ipython",
    "version": 3
   },
   "file_extension": ".py",
   "mimetype": "text/x-python",
   "name": "python",
   "nbconvert_exporter": "python",
   "pygments_lexer": "ipython3",
   "version": "3.6.4"
  }
 },
 "nbformat": 4,
 "nbformat_minor": 2
}
