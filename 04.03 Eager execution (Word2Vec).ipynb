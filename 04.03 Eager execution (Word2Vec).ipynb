{
 "cells": [
  {
   "cell_type": "markdown",
   "metadata": {},
   "source": [
    "# 04.03 Eager execution (Word2Vec)"
   ]
  },
  {
   "cell_type": "code",
   "execution_count": 48,
   "metadata": {},
   "outputs": [],
   "source": [
    "import os\n",
    "os.environ['TF_CPP_MIN_LOG_LEVEL'] = '2'\n",
    "\n",
    "import gzip\n",
    "import numpy as np\n",
    "import urllib\n",
    "import zipfile\n",
    "from collections import Counter\n",
    "import random"
   ]
  },
  {
   "cell_type": "code",
   "execution_count": 2,
   "metadata": {},
   "outputs": [
    {
     "name": "stderr",
     "output_type": "stream",
     "text": [
      "/Users/JunChangWook/anaconda2/envs/py36/lib/python3.6/site-packages/h5py/__init__.py:36: FutureWarning: Conversion of the second argument of issubdtype from `float` to `np.floating` is deprecated. In future, it will be treated as `np.float64 == np.dtype(float).type`.\n",
      "  from ._conv import register_converters as _register_converters\n"
     ]
    }
   ],
   "source": [
    "import numpy as np\n",
    "import tensorflow as tf\n",
    "import tensorflow.contrib.eager as tfe"
   ]
  },
  {
   "cell_type": "code",
   "execution_count": 39,
   "metadata": {},
   "outputs": [],
   "source": [
    "def safe_mkdir(path):\n",
    "    \"\"\" 디렉토리가 없으면 디렉토리를 작성합니다. \"\"\"\n",
    "    try:\n",
    "        os.mkdir(path)\n",
    "    except OSError:\n",
    "        pass"
   ]
  },
  {
   "cell_type": "code",
   "execution_count": 30,
   "metadata": {},
   "outputs": [],
   "source": [
    "def download_one_file(download_url, \n",
    "                    local_dest, \n",
    "                    expected_byte=None, \n",
    "                    unzip_and_remove=False):\n",
    "    \"\"\" \n",
    "    다운로드 파일이 존재 하지 않는 경우 \n",
    "    download_url에서 local_dest로 파일 다운로드 한다. \n",
    "    expected_byte가 제공되면 다운로드 한 파일의 바이트 수가 같아야 한다.\n",
    "    unzip_and_remove가 True이면 파일의 압축을 풀고 zip 파일을 제거한다.\n",
    "    \"\"\"\n",
    "    if os.path.exists(local_dest) or os.path.exists(local_dest[:-3]):\n",
    "        print('%s already exists' %local_dest)\n",
    "    else:\n",
    "        print('Downloading %s' %download_url)\n",
    "        local_file, _ = urllib.request.urlretrieve(download_url, local_dest)\n",
    "        file_stat = os.stat(local_dest)\n",
    "        if expected_byte:\n",
    "            if file_stat.st_size == expected_byte:\n",
    "                print('Successfully downloaded %s' %local_dest)\n",
    "                if unzip_and_remove:\n",
    "                    with gzip.open(local_dest, 'rb') as f_in, open(local_dest[:-3],'wb') as f_out:\n",
    "                        shutil.copyfileobj(f_in, f_out)\n",
    "                    os.remove(local_dest)\n",
    "            else:\n",
    "                print('The downloaded file has unexpected number of bytes')"
   ]
  },
  {
   "cell_type": "code",
   "execution_count": 46,
   "metadata": {},
   "outputs": [],
   "source": [
    "def generate_sample(index_words, context_window_size):\n",
    "    \"\"\" skip-gram 모델에 따라 트레이닝 쌍을 형성 합니다. \"\"\"\n",
    "    for index, center in enumerate(index_words):\n",
    "        context = random.randint(1, context_window_size)\n",
    "        # get a random target before the center word\n",
    "        for target in index_words[max(0, index - context): index]:\n",
    "            yield center, target\n",
    "        # get a random target after the center wrod\n",
    "        for target in index_words[index + 1: index + context + 1]:\n",
    "            yield center, target"
   ]
  },
  {
   "cell_type": "code",
   "execution_count": 44,
   "metadata": {},
   "outputs": [],
   "source": [
    "def convert_words_to_index(words, dictionary):\n",
    "    \"\"\" 데이터 집합의 각 단어를 사전의 Index로 교체합니다. \"\"\"\n",
    "    return [dictionary[word] if word in dictionary else 0 for word in words]"
   ]
  },
  {
   "cell_type": "code",
   "execution_count": 40,
   "metadata": {},
   "outputs": [],
   "source": [
    "def build_vocab(words, vocab_size, visual_fld):\n",
    "    \"\"\" \n",
    "    빈번한 단어들을 VOCAB_SIZE 만큼 작성합니다. \n",
    "    visualization/vocab.tsv\n",
    "    \"\"\"\n",
    "    safe_mkdir(visual_fld)\n",
    "    file = open(os.path.join(visual_fld, 'vocab.tsv'), 'w')\n",
    "    \n",
    "    dictionary = dict()\n",
    "    count = [('UNK', -1)]\n",
    "    index = 0\n",
    "    count.extend(Counter(words).most_common(vocab_size - 1))\n",
    "    \n",
    "    for word, _ in count:\n",
    "        dictionary[word] = index\n",
    "        index += 1\n",
    "        file.write(word + '\\n')\n",
    "    \n",
    "    index_dictionary = dict(zip(dictionary.values(), dictionary.keys()))\n",
    "    file.close()\n",
    "    return dictionary, index_dictionary"
   ]
  },
  {
   "cell_type": "code",
   "execution_count": 35,
   "metadata": {},
   "outputs": [],
   "source": [
    "def read_data(file_path):\n",
    "    \"\"\" 데이터 목록을 읽어서 토크나이즈 했을때 17,005,207 토큰이 존재 해야 한다.\n",
    "    \"\"\"\n",
    "    with zipfile.ZipFile(file_path) as f:\n",
    "        words = tf.compat.as_str(f.read(f.namelist()[0])).split() \n",
    "    return words"
   ]
  },
  {
   "cell_type": "code",
   "execution_count": 31,
   "metadata": {},
   "outputs": [],
   "source": [
    "def batch_gen(download_url, expected_byte, vocab_size, batch_size, \n",
    "                skip_window, visual_fld):\n",
    "    local_dest = 'data/text8.zip'\n",
    "    download_one_file(download_url, local_dest, expected_byte)\n",
    "    words = read_data(local_dest)\n",
    "    dictionary, _ = build_vocab(words, vocab_size, visual_fld)\n",
    "    index_words = convert_words_to_index(words, dictionary)\n",
    "    del words           # to save memory\n",
    "    single_gen = generate_sample(index_words, skip_window)\n",
    "    \n",
    "    while True:\n",
    "        center_batch = np.zeros(batch_size, dtype=np.int32)\n",
    "        target_batch = np.zeros([batch_size, 1])\n",
    "        for index in range(batch_size):\n",
    "            center_batch[index], target_batch[index] = next(single_gen)\n",
    "        yield center_batch, target_batch"
   ]
  },
  {
   "cell_type": "markdown",
   "metadata": {},
   "source": [
    "### eager mode 실행"
   ]
  },
  {
   "cell_type": "code",
   "execution_count": 3,
   "metadata": {},
   "outputs": [],
   "source": [
    "tfe.enable_eager_execution()"
   ]
  },
  {
   "cell_type": "markdown",
   "metadata": {},
   "source": [
    "### Model 파마메터 설정"
   ]
  },
  {
   "cell_type": "code",
   "execution_count": 4,
   "metadata": {},
   "outputs": [],
   "source": [
    "VOCAB_SIZE = 50000\n",
    "BATCH_SIZE = 128\n",
    "EMBED_SIZE = 128 # 단어의 임베딩 벡터의 차원을 정한다.\n",
    "SKIP_WINDOW = 1 # 문맥 window\n",
    "NUM_SAMPLED = 64 # 숫자 부정적인 예의 샘플\n",
    "LEARNING_RATE = 1.0\n",
    "NUM_TRAIN_STEPS = 100000\n",
    "VISUAL_FLD = 'visualization'\n",
    "SKIP_STEP = 5000"
   ]
  },
  {
   "cell_type": "markdown",
   "metadata": {},
   "source": [
    "### 다운로드 데이터"
   ]
  },
  {
   "cell_type": "code",
   "execution_count": 5,
   "metadata": {},
   "outputs": [],
   "source": [
    "DOWNLOAD_URL = 'http://mattmahoney.net/dc/text8.zip'\n",
    "EXPECTED_BYTES = 31344016"
   ]
  },
  {
   "cell_type": "code",
   "execution_count": 22,
   "metadata": {},
   "outputs": [],
   "source": [
    "class Word2Vec(object):\n",
    "    def __init__(self, vocab_size, embed_size, num_sampled=NUM_SAMPLED):\n",
    "        self.vocab_size = vocab_size\n",
    "        self.num_sampled = num_sampled\n",
    "        self.embed_matrix = tfe.Variable(tf.random_uniform([vocab_size, embed_size]))\n",
    "        self.nce_weight = tfe.Variable(tf.truncated_normal([vocab_size, embed_size], stddev=1.0 / (embed_size ** 0.5)))\n",
    "        self.nce_bias = tfe.Variable(tf.zeros([vocab_size]))\n",
    "    \n",
    "    def compute_loss(self, center_words, target_words):\n",
    "        \"\"\"이 목적함수는 모델이 실제 단어들에 높은 확률을 할당하고 노이즈 단어들에 낮은 확률을 할당할 때 최대화된다. \n",
    "        기술적으로, 이를 Negative Sampling 이라 명하며, 이 손실(loss) 함수 사용에 대해 수학적으로 유리한 동기가 존재한다.\n",
    "        제시되는 업데이트들은 제한된 softmax 함수의 업데이트들을 근사값을 계산한다. \n",
    "        하지만 손실 함수의 계산을 우리가 선택한 noise words( k ) 의 갯수, 어휘( V ) 내 모든 단어(all words) 가 아닌, \n",
    "        만으로 변경하여 계산한다는 점 때문에 계산적으로 특히 매력적이다. \n",
    "        이것은 학습을 더욱 빠르게 만든다. \n",
    "        우리는 noise-contrastive estimation (NCE) 손실(loss) 와 매우 유사한 것, \n",
    "        TensorFlow 가 가지고 있는 유용한 헬퍼 함수 tf.nn.nce_loss() 를 활용한다.\"\"\"\n",
    "        embed = tf.nn.embedding_lookup(self.embed_matrix, center_words)\n",
    "        loss = tf.reduce_mean(tf.nn.nce_loss(weights=self.nce_weight,\n",
    "                                            biases=self.nce_bias,\n",
    "                                            labels=target_words,\n",
    "                                            inputs=embed,\n",
    "                                            num_sampled=self.num_sampled,\n",
    "                                            num_classes=self.vocab_size))\n",
    "        return loss"
   ]
  },
  {
   "cell_type": "code",
   "execution_count": 27,
   "metadata": {},
   "outputs": [],
   "source": [
    "def gen():\n",
    "    yield from batch_gen(DOWNLOAD_URL, EXPECTED_BYTES, VOCAB_SIZE, BATCH_SIZE, SKIP_WINDOW, VISUAL_FLD)"
   ]
  },
  {
   "cell_type": "code",
   "execution_count": 50,
   "metadata": {},
   "outputs": [],
   "source": [
    "def main():\n",
    "    dataset = tf.data.Dataset.from_generator(gen, (tf.int32, tf.int32),\n",
    "                                            (tf.TensorShape([BATCH_SIZE]),\n",
    "                                            tf.TensorShape([BATCH_SIZE, 1])))\n",
    "    optimizer = tf.train.GradientDescentOptimizer(LEARNING_RATE)\n",
    "    model = Word2Vec(vocab_size=VOCAB_SIZE, embed_size=EMBED_SIZE)\n",
    "    grad_fn = tfe.implicit_value_and_gradients(model.compute_loss)\n",
    "    total_loss = 0.0 # 마지막 SKIP_STEP 단계의 평균 손실\n",
    "    num_train_steps = 0\n",
    "    while num_train_steps < NUM_TRAIN_STEPS:\n",
    "        for center_words, target_words in tfe.Iterator(dataset):\n",
    "            if num_train_steps >= NUM_TRAIN_STEPS:\n",
    "                break\n",
    "            loss_batch, grads = grad_fn(center_words, target_words)\n",
    "            total_loss += loss_batch\n",
    "            optimizer.apply_gradients(grads)\n",
    "            if(num_train_steps + 1) % SKIP_STEP == 0:\n",
    "                print('Average loss at step {}: {:5.1f}'.format(num_train_steps, total_loss / SKIP_STEP))\n",
    "                total_loss = 0.0\n",
    "            num_train_steps += 1"
   ]
  },
  {
   "cell_type": "code",
   "execution_count": 51,
   "metadata": {},
   "outputs": [
    {
     "name": "stdout",
     "output_type": "stream",
     "text": [
      "data/text8.zip already exists\n",
      "Average loss at step 4999:  65.4\n",
      "Average loss at step 9999:  18.3\n",
      "Average loss at step 14999:   9.6\n",
      "Average loss at step 19999:   6.7\n",
      "Average loss at step 24999:   5.7\n",
      "Average loss at step 29999:   5.2\n",
      "Average loss at step 34999:   5.0\n",
      "Average loss at step 39999:   4.9\n",
      "Average loss at step 44999:   4.8\n",
      "Average loss at step 49999:   4.8\n",
      "Average loss at step 54999:   4.7\n",
      "Average loss at step 59999:   4.7\n",
      "Average loss at step 64999:   4.7\n",
      "Average loss at step 69999:   4.7\n",
      "Average loss at step 74999:   4.6\n",
      "Average loss at step 79999:   4.7\n",
      "Average loss at step 84999:   4.7\n",
      "Average loss at step 89999:   4.7\n",
      "Average loss at step 94999:   4.6\n",
      "Average loss at step 99999:   4.6\n"
     ]
    }
   ],
   "source": [
    "if __name__ == '__main__':\n",
    "    main()"
   ]
  }
 ],
 "metadata": {
  "kernelspec": {
   "display_name": "Python 3",
   "language": "python",
   "name": "python3"
  },
  "language_info": {
   "codemirror_mode": {
    "name": "ipython",
    "version": 3
   },
   "file_extension": ".py",
   "mimetype": "text/x-python",
   "name": "python",
   "nbconvert_exporter": "python",
   "pygments_lexer": "ipython3",
   "version": "3.6.4"
  }
 },
 "nbformat": 4,
 "nbformat_minor": 2
}
