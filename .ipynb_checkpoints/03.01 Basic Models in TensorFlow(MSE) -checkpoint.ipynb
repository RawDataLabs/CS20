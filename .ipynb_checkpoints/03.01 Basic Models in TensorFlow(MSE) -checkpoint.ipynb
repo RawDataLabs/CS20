{
 "cells": [
  {
   "cell_type": "markdown",
   "metadata": {},
   "source": [
    "# 03.Basic Models in TensorFlow"
   ]
  },
  {
   "cell_type": "markdown",
   "metadata": {},
   "source": [
    "### Linear Regression in TensorFlow"
   ]
  },
  {
   "cell_type": "markdown",
   "metadata": {},
   "source": [
    "모델 간의 선형 관계 :    \n",
    "    종속 변수 Y  \n",
    "    설명 변수 X  "
   ]
  },
  {
   "cell_type": "markdown",
   "metadata": {},
   "source": [
    "[Visualization made by Google, based on data collected by World Bank](https://www.google.com/publicdata/explore?ds=d5bncppjof8f9_&ctype=b&strail=false&nselm=s&met_x=sp_dyn_le00_in&scale_x=lin&ind_x=false&met_y=sp_dyn_tfrt_in&scale_y=lin&ind_y=false&met_s=sp_pop_totl&scale_s=lin&ind_s=false&dimp_c=country:region&ifdim=country&iconSize=0.5&uniSize=0.035#!ctype=b&strail=false&bcs=d&nselm=s&met_x=sp_dyn_le00_in&scale_x=lin&ind_x=false&met_y=sp_dyn_tfrt_in&scale_y=lin&ind_y=false&met_s=sp_pop_totl&scale_s=lin&ind_s=false&dimp_c=country:region&ifdim=country&pit=1421395200000&hl=en_US&dl=en_US&ind=false)"
   ]
  },
  {
   "cell_type": "markdown",
   "metadata": {},
   "source": [
    "![Alt_text](./03_images/01.png)"
   ]
  },
  {
   "cell_type": "markdown",
   "metadata": {},
   "source": [
    "### World Development Indicators dataset"
   ]
  },
  {
   "cell_type": "markdown",
   "metadata": {},
   "source": [
    "X : 출생률 (Birth Rate)    \n",
    "Y : 평균 수명 (Life Expectancy)   \n",
    "190 개국    "
   ]
  },
  {
   "cell_type": "markdown",
   "metadata": {},
   "source": [
    "### Model"
   ]
  },
  {
   "cell_type": "markdown",
   "metadata": {},
   "source": [
    "추론 :   Y_predicted = w * X + b  \n",
    "Mean squared error(Object Function):   E[(y - y_predicted)2]  "
   ]
  },
  {
   "cell_type": "markdown",
   "metadata": {},
   "source": [
    "### 불러오기 패키지"
   ]
  },
  {
   "cell_type": "code",
   "execution_count": 1,
   "metadata": {},
   "outputs": [
    {
     "name": "stderr",
     "output_type": "stream",
     "text": [
      "/Users/JunChangWook/anaconda2/envs/py36/lib/python3.6/site-packages/h5py/__init__.py:36: FutureWarning: Conversion of the second argument of issubdtype from `float` to `np.floating` is deprecated. In future, it will be treated as `np.float64 == np.dtype(float).type`.\n",
      "  from ._conv import register_converters as _register_converters\n"
     ]
    }
   ],
   "source": [
    "import os\n",
    "os.environ['TF_CPP_MIN_LOG_LEVEL']='2'\n",
    "import time\n",
    "\n",
    "import numpy as np\n",
    "import matplotlib.pyplot as plt\n",
    "import tensorflow as tf\n",
    "import sys\n",
    "import pandas as pd\n",
    "%matplotlib inline"
   ]
  },
  {
   "cell_type": "markdown",
   "metadata": {},
   "source": [
    "### 데이터 불러오기"
   ]
  },
  {
   "cell_type": "code",
   "execution_count": 2,
   "metadata": {},
   "outputs": [],
   "source": [
    "DATA_FILE = 'data/birth_life_2010.txt'"
   ]
  },
  {
   "cell_type": "code",
   "execution_count": 3,
   "metadata": {},
   "outputs": [],
   "source": [
    "def read_birth_life_data(filename):\n",
    "    \"\"\"\n",
    "    Read in birth_life_2010.txt and return:\n",
    "    data in the form of NumPy array\n",
    "    n_samples: number of samples\n",
    "    \"\"\"\n",
    "    text = open(filename, 'r').readlines()[1:]\n",
    "    data = [line[:-1].split('\\t') for line in text]\n",
    "    births = [float(line[1]) for line in data]\n",
    "    lifes = [float(line[2]) for line in data]\n",
    "    data = list(zip(births, lifes))\n",
    "    n_samples = len(data)\n",
    "    data = np.asarray(data, dtype=np.float32)\n",
    "    return data, n_samples"
   ]
  },
  {
   "cell_type": "markdown",
   "metadata": {},
   "source": [
    "### Pandas 데이터 확인"
   ]
  },
  {
   "cell_type": "code",
   "execution_count": 4,
   "metadata": {},
   "outputs": [],
   "source": [
    "df = pd.read_table(DATA_FILE)"
   ]
  },
  {
   "cell_type": "code",
   "execution_count": 5,
   "metadata": {},
   "outputs": [
    {
     "data": {
      "text/html": [
       "<div>\n",
       "<style scoped>\n",
       "    .dataframe tbody tr th:only-of-type {\n",
       "        vertical-align: middle;\n",
       "    }\n",
       "\n",
       "    .dataframe tbody tr th {\n",
       "        vertical-align: top;\n",
       "    }\n",
       "\n",
       "    .dataframe thead th {\n",
       "        text-align: right;\n",
       "    }\n",
       "</style>\n",
       "<table border=\"1\" class=\"dataframe\">\n",
       "  <thead>\n",
       "    <tr style=\"text-align: right;\">\n",
       "      <th></th>\n",
       "      <th>Country</th>\n",
       "      <th>Birth rate</th>\n",
       "      <th>Life expectancy</th>\n",
       "    </tr>\n",
       "  </thead>\n",
       "  <tbody>\n",
       "    <tr>\n",
       "      <th>0</th>\n",
       "      <td>Vietnam</td>\n",
       "      <td>1.822</td>\n",
       "      <td>74.828244</td>\n",
       "    </tr>\n",
       "    <tr>\n",
       "      <th>1</th>\n",
       "      <td>Vanuatu</td>\n",
       "      <td>3.869</td>\n",
       "      <td>70.819488</td>\n",
       "    </tr>\n",
       "    <tr>\n",
       "      <th>2</th>\n",
       "      <td>Tonga</td>\n",
       "      <td>3.911</td>\n",
       "      <td>72.150659</td>\n",
       "    </tr>\n",
       "    <tr>\n",
       "      <th>3</th>\n",
       "      <td>Timor-Leste</td>\n",
       "      <td>5.578</td>\n",
       "      <td>61.999854</td>\n",
       "    </tr>\n",
       "    <tr>\n",
       "      <th>4</th>\n",
       "      <td>Thailand</td>\n",
       "      <td>1.579</td>\n",
       "      <td>73.927659</td>\n",
       "    </tr>\n",
       "  </tbody>\n",
       "</table>\n",
       "</div>"
      ],
      "text/plain": [
       "       Country  Birth rate  Life expectancy\n",
       "0      Vietnam       1.822        74.828244\n",
       "1      Vanuatu       3.869        70.819488\n",
       "2        Tonga       3.911        72.150659\n",
       "3  Timor-Leste       5.578        61.999854\n",
       "4     Thailand       1.579        73.927659"
      ]
     },
     "execution_count": 5,
     "metadata": {},
     "output_type": "execute_result"
    }
   ],
   "source": [
    "df.head()"
   ]
  },
  {
   "cell_type": "markdown",
   "metadata": {},
   "source": [
    "### # Step 1: read in data from the .txt file"
   ]
  },
  {
   "cell_type": "code",
   "execution_count": 6,
   "metadata": {},
   "outputs": [],
   "source": [
    "data, n_samples = read_birth_life_data(DATA_FILE)"
   ]
  },
  {
   "cell_type": "code",
   "execution_count": 7,
   "metadata": {},
   "outputs": [
    {
     "data": {
      "text/plain": [
       "190"
      ]
     },
     "execution_count": 7,
     "metadata": {},
     "output_type": "execute_result"
    }
   ],
   "source": [
    "n_samples"
   ]
  },
  {
   "cell_type": "code",
   "execution_count": 8,
   "metadata": {},
   "outputs": [
    {
     "data": {
      "text/plain": [
       "(190, 2)"
      ]
     },
     "execution_count": 8,
     "metadata": {},
     "output_type": "execute_result"
    }
   ],
   "source": [
    "data.shape"
   ]
  },
  {
   "cell_type": "code",
   "execution_count": 9,
   "metadata": {},
   "outputs": [
    {
     "data": {
      "text/plain": [
       "array([[ 1.822   , 74.82825 ],\n",
       "       [ 3.869   , 70.81949 ],\n",
       "       [ 3.911   , 72.15066 ],\n",
       "       [ 5.578   , 61.999855],\n",
       "       [ 1.579   , 73.92766 ],\n",
       "       [ 4.229   , 67.465195],\n",
       "       [ 1.15    , 81.641464],\n",
       "       [ 3.86    , 72.30639 ],\n",
       "       [ 3.142   , 68.484314],\n",
       "       [ 3.951   , 62.44061 ],\n",
       "       [ 2.16    , 80.70244 ],\n",
       "       [ 2.141   , 76.30168 ],\n",
       "       [ 2.002   , 64.662094],\n",
       "       [ 2.504   , 68.19498 ],\n",
       "       [ 3.451   , 68.76483 ],\n",
       "       [ 2.635   , 74.02456 ],\n",
       "       [ 1.092   , 80.775314],\n",
       "       [ 2.747   , 67.064   ],\n",
       "       [ 1.22    , 80.76195 ],\n",
       "       [ 1.39    , 82.932686],\n",
       "       [ 2.117   , 68.889656],\n",
       "       [ 1.108   , 82.87805 ],\n",
       "       [ 2.47    , 75.99427 ],\n",
       "       [ 2.09    , 75.07688 ],\n",
       "       [ 2.668   , 69.22583 ],\n",
       "       [ 2.022   , 68.53214 ],\n",
       "       [ 1.598   , 73.273094],\n",
       "       [ 2.581   , 62.53622 ],\n",
       "       [ 2.042   , 77.93202 ],\n",
       "       [ 1.92    , 81.69512 ],\n",
       "       [ 2.499   , 68.001   ],\n",
       "       [ 1.94    , 80.402435],\n",
       "       [ 1.445   , 70.27561 ],\n",
       "       [ 2.399   , 64.86351 ],\n",
       "       [ 2.088   , 73.696655],\n",
       "       [ 3.297   , 67.2599  ],\n",
       "       [ 1.5     , 82.24634 ],\n",
       "       [ 1.98    , 81.45122 ],\n",
       "       [ 1.39    , 81.62683 ],\n",
       "       [ 1.57    , 79.42195 ],\n",
       "       [ 1.4     , 75.1122  ],\n",
       "       [ 1.4     , 73.936584],\n",
       "       [ 1.54    , 68.80488 ],\n",
       "       [ 1.38    , 73.458534],\n",
       "       [ 1.32    , 79.02683 ],\n",
       "       [ 1.38    , 76.24634 ],\n",
       "       [ 1.95    , 80.99756 ],\n",
       "       [ 1.79    , 80.70244 ],\n",
       "       [ 1.656   , 74.3111  ],\n",
       "       [ 1.475   , 68.90371 ],\n",
       "       [ 1.422   , 74.61885 ],\n",
       "       [ 1.63    , 80.08781 ],\n",
       "       [ 1.55    , 73.268295],\n",
       "       [ 1.17    , 73.482925],\n",
       "       [ 2.898   , 69.36846 ],\n",
       "       [ 2.2893  , 69.88439 ],\n",
       "       [ 2.59    , 68.295364],\n",
       "       [ 1.4     , 81.73659 ],\n",
       "       [ 2.07    , 80.291954],\n",
       "       [ 2.2     , 81.45122 ],\n",
       "       [ 1.25    , 74.20731 ],\n",
       "       [ 1.44    , 80.3878  ],\n",
       "       [ 1.39    , 79.98781 ],\n",
       "       [ 1.555   , 73.32734 ],\n",
       "       [ 2.      , 81.36829 ],\n",
       "       [ 1.87    , 79.870735],\n",
       "       [ 1.63    , 75.42927 ],\n",
       "       [ 1.87    , 79.1     ],\n",
       "       [ 1.49    , 77.42439 ],\n",
       "       [ 1.476   , 79.380394],\n",
       "       [ 1.46    , 76.47561 ],\n",
       "       [ 1.46    , 79.832   ],\n",
       "       [ 1.49    , 73.51219 ],\n",
       "       [ 1.148   , 75.40044 ],\n",
       "       [ 1.84    , 79.936584],\n",
       "       [ 1.44    , 70.40488 ],\n",
       "       [ 2.3     , 70.506516],\n",
       "       [ 1.44    , 80.38293 ],\n",
       "       [ 1.736   , 73.78356 ],\n",
       "       [ 1.536   , 76.90095 ],\n",
       "       [ 1.8     , 79.18944 ],\n",
       "       [ 2.49    , 74.12732 ],\n",
       "       [ 1.9856  , 76.23683 ],\n",
       "       [ 1.639   , 69.755   ],\n",
       "       [ 1.896   , 75.22212 ],\n",
       "       [ 2.336   , 70.33532 ],\n",
       "       [ 2.064   , 72.11253 ],\n",
       "       [ 1.98    , 74.4399  ],\n",
       "       [ 1.797   , 78.91329 ],\n",
       "       [ 2.501   , 73.76498 ],\n",
       "       [ 2.954   , 72.277   ],\n",
       "       [ 2.484   , 75.97424 ],\n",
       "       [ 2.622   , 73.72922 ],\n",
       "       [ 2.32    , 76.68378 ],\n",
       "       [ 2.329   , 72.84712 ],\n",
       "       [ 3.139   , 72.82593 ],\n",
       "       [ 3.34    , 61.763   ],\n",
       "       [ 2.262   , 69.54915 ],\n",
       "       [ 3.983   , 70.82542 ],\n",
       "       [ 2.235   , 75.66044 ],\n",
       "       [ 2.25    , 71.73237 ],\n",
       "       [ 2.479   , 75.462296],\n",
       "       [ 2.58    , 73.20003 ],\n",
       "       [ 1.467   , 78.96415 ],\n",
       "       [ 1.848   , 79.19261 ],\n",
       "       [ 2.1     , 73.42968 ],\n",
       "       [ 1.862   , 78.885735],\n",
       "       [ 1.83    , 73.09953 ],\n",
       "       [ 3.348   , 66.26856 ],\n",
       "       [ 2.79    , 75.83995 ],\n",
       "       [ 1.551   , 76.57283 ],\n",
       "       [ 1.699   , 74.975174],\n",
       "       [ 2.211   , 75.63215 ],\n",
       "       [ 5.2     , 65.030464],\n",
       "       [ 4.453   , 72.643684],\n",
       "       [ 1.749   , 76.57361 ],\n",
       "       [ 2.04    , 74.6     ],\n",
       "       [ 2.934   , 75.70256 ],\n",
       "       [ 2.811   , 73.85042 ],\n",
       "       [ 2.271   , 78.09759 ],\n",
       "       [ 2.309   , 73.12461 ],\n",
       "       [ 2.279   , 71.86463 ],\n",
       "       [ 1.38    , 80.948784],\n",
       "       [ 2.564   , 74.75312 ],\n",
       "       [ 1.8     , 72.40875 ],\n",
       "       [ 2.295   , 74.60473 ],\n",
       "       [ 3.8     , 73.28966 ],\n",
       "       [ 3.03    , 81.504875],\n",
       "       [ 4.702   , 68.486046],\n",
       "       [ 1.67    , 72.751854],\n",
       "       [ 2.733   , 72.975266],\n",
       "       [ 3.75    , 57.52739 ],\n",
       "       [ 2.54    , 75.02383 ],\n",
       "       [ 2.264   , 72.85254 ],\n",
       "       [ 2.1     , 78.24146 ],\n",
       "       [ 1.677   , 80.797806],\n",
       "       [ 1.764   , 79.288536],\n",
       "       [ 2.313   , 74.72261 ],\n",
       "       [ 3.423   , 65.19885 ],\n",
       "       [ 2.727   , 68.39483 ],\n",
       "       [ 1.752   , 76.551414],\n",
       "       [ 2.625   , 65.13134 ],\n",
       "       [ 2.399   , 66.90885 ],\n",
       "       [ 2.245   , 68.6348  ],\n",
       "       [ 6.288   , 48.282196],\n",
       "       [ 3.29    , 49.860878],\n",
       "       [ 6.258   , 48.455486],\n",
       "       [ 6.149   , 53.614635],\n",
       "       [ 4.072   , 56.588707],\n",
       "       [ 4.896   , 58.160023],\n",
       "       [ 5.544   , 57.38749 ],\n",
       "       [ 3.364   , 48.342804],\n",
       "       [ 4.4     , 61.108242],\n",
       "       [ 2.458   , 52.08149 ],\n",
       "       [ 6.339   , 50.89554 ],\n",
       "       [ 4.982   , 47.402195],\n",
       "       [ 2.5     , 73.03415 ],\n",
       "       [ 4.819   , 58.954075],\n",
       "       [ 5.371   , 55.05712 ],\n",
       "       [ 5.525   , 51.410023],\n",
       "       [ 7.063   , 54.265633],\n",
       "       [ 3.217   , 62.0701  ],\n",
       "       [ 4.912   , 49.696926],\n",
       "       [ 1.47    , 72.967316],\n",
       "       [ 4.533   , 58.21695 ],\n",
       "       [ 6.294   , 50.95483 ],\n",
       "       [ 5.99    , 53.462635],\n",
       "       [ 4.651   , 66.46707 ],\n",
       "       [ 5.238   , 56.147587],\n",
       "       [ 3.199   , 47.365074],\n",
       "       [ 4.718   , 56.497074],\n",
       "       [ 5.063   , 47.700657],\n",
       "       [ 5.246   , 53.638584],\n",
       "       [ 4.17    , 63.83727 ],\n",
       "       [ 3.25    , 62.286682],\n",
       "       [ 4.193   , 58.7151  ],\n",
       "       [ 4.453   , 60.994194],\n",
       "       [ 5.185   , 50.840805],\n",
       "       [ 5.775   , 48.069584],\n",
       "       [ 4.544   , 56.960194],\n",
       "       [ 4.919   , 60.626266],\n",
       "       [ 5.981   , 49.194828],\n",
       "       [ 4.631   , 47.61846 ],\n",
       "       [ 2.405   , 73.77405 ],\n",
       "       [ 4.487   , 51.062756],\n",
       "       [ 4.338   , 49.87722 ],\n",
       "       [ 5.85    , 54.924194],\n",
       "       [ 2.75    , 53.109512],\n",
       "       [ 5.287   , 55.585587],\n",
       "       [ 5.443   , 50.65366 ]], dtype=float32)"
      ]
     },
     "execution_count": 9,
     "metadata": {},
     "output_type": "execute_result"
    }
   ],
   "source": [
    "data"
   ]
  },
  {
   "cell_type": "markdown",
   "metadata": {},
   "source": [
    "### 1열만 가져오기 Birth Rate"
   ]
  },
  {
   "cell_type": "code",
   "execution_count": 10,
   "metadata": {},
   "outputs": [
    {
     "data": {
      "text/plain": [
       "array([1.822 , 3.869 , 3.911 , 5.578 , 1.579 , 4.229 , 1.15  , 3.86  ,\n",
       "       3.142 , 3.951 , 2.16  , 2.141 , 2.002 , 2.504 , 3.451 , 2.635 ,\n",
       "       1.092 , 2.747 , 1.22  , 1.39  , 2.117 , 1.108 , 2.47  , 2.09  ,\n",
       "       2.668 , 2.022 , 1.598 , 2.581 , 2.042 , 1.92  , 2.499 , 1.94  ,\n",
       "       1.445 , 2.399 , 2.088 , 3.297 , 1.5   , 1.98  , 1.39  , 1.57  ,\n",
       "       1.4   , 1.4   , 1.54  , 1.38  , 1.32  , 1.38  , 1.95  , 1.79  ,\n",
       "       1.656 , 1.475 , 1.422 , 1.63  , 1.55  , 1.17  , 2.898 , 2.2893,\n",
       "       2.59  , 1.4   , 2.07  , 2.2   , 1.25  , 1.44  , 1.39  , 1.555 ,\n",
       "       2.    , 1.87  , 1.63  , 1.87  , 1.49  , 1.476 , 1.46  , 1.46  ,\n",
       "       1.49  , 1.148 , 1.84  , 1.44  , 2.3   , 1.44  , 1.736 , 1.536 ,\n",
       "       1.8   , 2.49  , 1.9856, 1.639 , 1.896 , 2.336 , 2.064 , 1.98  ,\n",
       "       1.797 , 2.501 , 2.954 , 2.484 , 2.622 , 2.32  , 2.329 , 3.139 ,\n",
       "       3.34  , 2.262 , 3.983 , 2.235 , 2.25  , 2.479 , 2.58  , 1.467 ,\n",
       "       1.848 , 2.1   , 1.862 , 1.83  , 3.348 , 2.79  , 1.551 , 1.699 ,\n",
       "       2.211 , 5.2   , 4.453 , 1.749 , 2.04  , 2.934 , 2.811 , 2.271 ,\n",
       "       2.309 , 2.279 , 1.38  , 2.564 , 1.8   , 2.295 , 3.8   , 3.03  ,\n",
       "       4.702 , 1.67  , 2.733 , 3.75  , 2.54  , 2.264 , 2.1   , 1.677 ,\n",
       "       1.764 , 2.313 , 3.423 , 2.727 , 1.752 , 2.625 , 2.399 , 2.245 ,\n",
       "       6.288 , 3.29  , 6.258 , 6.149 , 4.072 , 4.896 , 5.544 , 3.364 ,\n",
       "       4.4   , 2.458 , 6.339 , 4.982 , 2.5   , 4.819 , 5.371 , 5.525 ,\n",
       "       7.063 , 3.217 , 4.912 , 1.47  , 4.533 , 6.294 , 5.99  , 4.651 ,\n",
       "       5.238 , 3.199 , 4.718 , 5.063 , 5.246 , 4.17  , 3.25  , 4.193 ,\n",
       "       4.453 , 5.185 , 5.775 , 4.544 , 4.919 , 5.981 , 4.631 , 2.405 ,\n",
       "       4.487 , 4.338 , 5.85  , 2.75  , 5.287 , 5.443 ], dtype=float32)"
      ]
     },
     "execution_count": 10,
     "metadata": {},
     "output_type": "execute_result"
    }
   ],
   "source": [
    " data[:,0] "
   ]
  },
  {
   "cell_type": "markdown",
   "metadata": {},
   "source": [
    "### 2열만 가져오기 Life expectancy"
   ]
  },
  {
   "cell_type": "code",
   "execution_count": 11,
   "metadata": {},
   "outputs": [
    {
     "data": {
      "text/plain": [
       "array([74.82825 , 70.81949 , 72.15066 , 61.999855, 73.92766 , 67.465195,\n",
       "       81.641464, 72.30639 , 68.484314, 62.44061 , 80.70244 , 76.30168 ,\n",
       "       64.662094, 68.19498 , 68.76483 , 74.02456 , 80.775314, 67.064   ,\n",
       "       80.76195 , 82.932686, 68.889656, 82.87805 , 75.99427 , 75.07688 ,\n",
       "       69.22583 , 68.53214 , 73.273094, 62.53622 , 77.93202 , 81.69512 ,\n",
       "       68.001   , 80.402435, 70.27561 , 64.86351 , 73.696655, 67.2599  ,\n",
       "       82.24634 , 81.45122 , 81.62683 , 79.42195 , 75.1122  , 73.936584,\n",
       "       68.80488 , 73.458534, 79.02683 , 76.24634 , 80.99756 , 80.70244 ,\n",
       "       74.3111  , 68.90371 , 74.61885 , 80.08781 , 73.268295, 73.482925,\n",
       "       69.36846 , 69.88439 , 68.295364, 81.73659 , 80.291954, 81.45122 ,\n",
       "       74.20731 , 80.3878  , 79.98781 , 73.32734 , 81.36829 , 79.870735,\n",
       "       75.42927 , 79.1     , 77.42439 , 79.380394, 76.47561 , 79.832   ,\n",
       "       73.51219 , 75.40044 , 79.936584, 70.40488 , 70.506516, 80.38293 ,\n",
       "       73.78356 , 76.90095 , 79.18944 , 74.12732 , 76.23683 , 69.755   ,\n",
       "       75.22212 , 70.33532 , 72.11253 , 74.4399  , 78.91329 , 73.76498 ,\n",
       "       72.277   , 75.97424 , 73.72922 , 76.68378 , 72.84712 , 72.82593 ,\n",
       "       61.763   , 69.54915 , 70.82542 , 75.66044 , 71.73237 , 75.462296,\n",
       "       73.20003 , 78.96415 , 79.19261 , 73.42968 , 78.885735, 73.09953 ,\n",
       "       66.26856 , 75.83995 , 76.57283 , 74.975174, 75.63215 , 65.030464,\n",
       "       72.643684, 76.57361 , 74.6     , 75.70256 , 73.85042 , 78.09759 ,\n",
       "       73.12461 , 71.86463 , 80.948784, 74.75312 , 72.40875 , 74.60473 ,\n",
       "       73.28966 , 81.504875, 68.486046, 72.751854, 72.975266, 57.52739 ,\n",
       "       75.02383 , 72.85254 , 78.24146 , 80.797806, 79.288536, 74.72261 ,\n",
       "       65.19885 , 68.39483 , 76.551414, 65.13134 , 66.90885 , 68.6348  ,\n",
       "       48.282196, 49.860878, 48.455486, 53.614635, 56.588707, 58.160023,\n",
       "       57.38749 , 48.342804, 61.108242, 52.08149 , 50.89554 , 47.402195,\n",
       "       73.03415 , 58.954075, 55.05712 , 51.410023, 54.265633, 62.0701  ,\n",
       "       49.696926, 72.967316, 58.21695 , 50.95483 , 53.462635, 66.46707 ,\n",
       "       56.147587, 47.365074, 56.497074, 47.700657, 53.638584, 63.83727 ,\n",
       "       62.286682, 58.7151  , 60.994194, 50.840805, 48.069584, 56.960194,\n",
       "       60.626266, 49.194828, 47.61846 , 73.77405 , 51.062756, 49.87722 ,\n",
       "       54.924194, 53.109512, 55.585587, 50.65366 ], dtype=float32)"
      ]
     },
     "execution_count": 11,
     "metadata": {},
     "output_type": "execute_result"
    }
   ],
   "source": [
    " data[:,1] "
   ]
  },
  {
   "cell_type": "markdown",
   "metadata": {},
   "source": [
    "### Step 2: create placeholders for X (birth rate) and Y (life expectancy)\n",
    "### Remember both X and Y are scalars with type float"
   ]
  },
  {
   "cell_type": "code",
   "execution_count": 12,
   "metadata": {},
   "outputs": [],
   "source": [
    "X, Y = None, None\n",
    "X = tf.placeholder(dtype = tf.float32, shape=None, name=None)\n",
    "Y = tf.placeholder(dtype = tf.float32, shape=None, name=None)"
   ]
  },
  {
   "cell_type": "markdown",
   "metadata": {},
   "source": [
    "### Step 3: create weight and bias, initialized to 0.0\n",
    "### Make sure to use tf.get_variable"
   ]
  },
  {
   "cell_type": "code",
   "execution_count": 13,
   "metadata": {},
   "outputs": [],
   "source": [
    "w, b = None, None\n",
    "w = tf.get_variable(name='weight', initializer = tf.constant(.0))\n",
    "b = tf.get_variable(name='bias', initializer = tf.constant(.0))"
   ]
  },
  {
   "cell_type": "markdown",
   "metadata": {},
   "source": [
    "### Step 4: build model to predict Y\n",
    "### e.g. how would you derive at Y_predicted given X, w, and b"
   ]
  },
  {
   "cell_type": "code",
   "execution_count": 14,
   "metadata": {},
   "outputs": [],
   "source": [
    "Y_predicted = None\n",
    "Y_predicted = (X * w) + b"
   ]
  },
  {
   "cell_type": "markdown",
   "metadata": {},
   "source": [
    "### Step 5: use the square error as the loss function"
   ]
  },
  {
   "cell_type": "code",
   "execution_count": 16,
   "metadata": {},
   "outputs": [],
   "source": [
    "loss = None\n",
    "loss = tf.square(Y - Y_predicted, name='loss')"
   ]
  },
  {
   "cell_type": "markdown",
   "metadata": {},
   "source": [
    "### Step 6: using gradient descent with learning rate of 0.001 to minimize loss"
   ]
  },
  {
   "cell_type": "code",
   "execution_count": 17,
   "metadata": {},
   "outputs": [],
   "source": [
    "optimizer = tf.train.GradientDescentOptimizer(learning_rate=0.001).minimize(loss)\n",
    "\n",
    "start = time.time()"
   ]
  },
  {
   "cell_type": "markdown",
   "metadata": {},
   "source": [
    "### Create a filewriter to write the model's graph to TensorBoard"
   ]
  },
  {
   "cell_type": "code",
   "execution_count": 18,
   "metadata": {},
   "outputs": [],
   "source": [
    "writer = tf.summary.FileWriter('./graphs/linear_reg', graph = tf.get_default_graph())"
   ]
  },
  {
   "cell_type": "markdown",
   "metadata": {},
   "source": [
    "### Step 7: initialize the necessary variables, in this case, w and b\n",
    "### Step 8: train the model for 100 epochs\n",
    "### close the writer when you're done using it"
   ]
  },
  {
   "cell_type": "code",
   "execution_count": 29,
   "metadata": {},
   "outputs": [
    {
     "name": "stderr",
     "output_type": "stream",
     "text": [
      "/Users/JunChangWook/anaconda2/envs/py36/lib/python3.6/site-packages/ipykernel_launcher.py:23: RuntimeWarning: divide by zero encountered in double_scalars\n"
     ]
    },
    {
     "name": "stdout",
     "output_type": "stream",
     "text": [
      "Epoch 0: Loss 244.96446228027344 AVG Train Loss inf\n",
      "Epoch 1: Loss 250.1955108642578 AVG Train Loss 181701.2643519044\n",
      "Epoch 2: Loss 224.2191619873047 AVG Train Loss 80244.00799238682\n",
      "Epoch 3: Loss 200.64324951171875 AVG Train Loss 47546.311690586306\n",
      "Epoch 4: Loss 179.65052795410156 AVG Train Loss 31713.84195930697\n",
      "Epoch 5: Loss 160.95668029785156 AVG Train Loss 22577.38644052744\n",
      "Epoch 6: Loss 144.30531311035156 AVG Train Loss 16754.159692068893\n",
      "Epoch 7: Loss 129.4681396484375 AVG Train Loss 12797.86687184551\n",
      "Epoch 8: Loss 116.24217987060547 AVG Train Loss 9987.963349737227\n",
      "Epoch 9: Loss 104.44866180419922 AVG Train Loss 7926.278780873865\n",
      "Epoch 10: Loss 93.92801666259766 AVG Train Loss 6375.532873811387\n",
      "Epoch 11: Loss 84.53882598876953 AVG Train Loss 5186.072069452188\n",
      "Epoch 12: Loss 76.15562438964844 AVG Train Loss 4259.225965904348\n",
      "Epoch 13: Loss 68.66739654541016 AVG Train Loss 3527.5630580533584\n",
      "Epoch 14: Loss 61.97585678100586 AVG Train Loss 2943.6481638662517\n",
      "Epoch 15: Loss 55.99274444580078 AVG Train Loss 2473.289836961097\n",
      "Epoch 16: Loss 50.640403747558594 AVG Train Loss 2091.351056351574\n",
      "Epoch 17: Loss 45.85005569458008 AVG Train Loss 1779.020482262706\n",
      "Epoch 18: Loss 41.55985641479492 AVG Train Loss 1522.012932812174\n",
      "Epoch 19: Loss 37.715755462646484 AVG Train Loss 1309.3503690609023\n",
      "Epoch 20: Loss 34.26887130737305 AVG Train Loss 1132.4888878080994\n",
      "Epoch 21: Loss 31.176664352416992 AVG Train Loss 984.7241743745371\n",
      "Epoch 22: Loss 28.400665283203125 AVG Train Loss 860.7396122542718\n",
      "Epoch 23: Loss 25.906858444213867 AVG Train Loss 756.2967898134629\n",
      "Epoch 24: Loss 23.66493797302246 AVG Train Loss 667.981336362549\n",
      "Epoch 25: Loss 21.64838409423828 AVG Train Loss 593.0442155420966\n",
      "Epoch 26: Loss 19.83293914794922 AVG Train Loss 529.2361296711204\n",
      "Epoch 27: Loss 18.197444915771484 AVG Train Loss 474.7278149603969\n",
      "Epoch 28: Loss 16.722610473632812 AVG Train Loss 428.0132054593414\n",
      "Epoch 29: Loss 15.391937255859375 AVG Train Loss 387.8536749901571\n",
      "Epoch 30: Loss 14.19030475616455 AVG Train Loss 353.220327058871\n",
      "Epoch 31: Loss 13.104253768920898 AVG Train Loss 323.26174720578393\n",
      "Epoch 32: Loss 12.12181568145752 AVG Train Loss 297.2646928483082\n",
      "Epoch 33: Loss 11.232332229614258 AVG Train Loss 274.6367400177498\n",
      "Epoch 34: Loss 10.42646598815918 AVG Train Loss 254.88038425268059\n",
      "Epoch 35: Loss 9.695631980895996 AVG Train Loss 237.57488629276466\n",
      "Epoch 36: Loss 9.032094955444336 AVG Train Loss 222.3664504894146\n",
      "Epoch 37: Loss 8.4293794631958 AVG Train Loss 208.96003378825452\n",
      "Epoch 38: Loss 7.881364822387695 AVG Train Loss 197.1010993168395\n",
      "Epoch 39: Loss 7.382332801818848 AVG Train Loss 186.57517032345567\n",
      "Epoch 40: Loss 6.927724838256836 AVG Train Loss 177.20156204989908\n",
      "Epoch 41: Loss 6.513356685638428 AVG Train Loss 168.82502558679752\n",
      "Epoch 42: Loss 6.134854793548584 AVG Train Loss 161.3120567404923\n",
      "Epoch 43: Loss 5.7892866134643555 AVG Train Loss 154.55063505178362\n",
      "Epoch 44: Loss 5.473315715789795 AVG Train Loss 148.44419995597988\n",
      "Epoch 45: Loss 5.183914661407471 AVG Train Loss 142.90831366149294\n",
      "Epoch 46: Loss 4.918941974639893 AVG Train Loss 137.87256916505208\n",
      "Epoch 47: Loss 4.6758880615234375 AVG Train Loss 133.27493753489304\n",
      "Epoch 48: Loss 4.4528913497924805 AVG Train Loss 129.06337978714146\n",
      "Epoch 49: Loss 4.24802303314209 AVG Train Loss 125.19132703939947\n",
      "Epoch 50: Loss 4.059700012207031 AVG Train Loss 121.61885300573427\n",
      "Epoch 51: Loss 3.886422634124756 AVG Train Loss 118.31236580571196\n",
      "Epoch 52: Loss 3.7267420291900635 AVG Train Loss 115.24153589305261\n",
      "Epoch 53: Loss 3.5797009468078613 AVG Train Loss 112.38091837467718\n",
      "Epoch 54: Loss 3.443939447402954 AVG Train Loss 109.70782512816044\n",
      "Epoch 55: Loss 3.3185253143310547 AVG Train Loss 107.2023451967104\n",
      "Epoch 56: Loss 3.2027788162231445 AVG Train Loss 104.8476424765626\n",
      "Epoch 57: Loss 3.0956876277923584 AVG Train Loss 102.62866607833917\n",
      "Epoch 58: Loss 2.9965951442718506 AVG Train Loss 100.53201455253594\n",
      "Epoch 59: Loss 2.904872179031372 AVG Train Loss 98.54633107065752\n",
      "Epoch 60: Loss 2.8198254108428955 AVG Train Loss 96.66119982394933\n",
      "Epoch 61: Loss 2.740953207015991 AVG Train Loss 94.86772481722329\n",
      "Epoch 62: Loss 2.667783498764038 AVG Train Loss 93.1581171125121\n",
      "Epoch 63: Loss 2.599858522415161 AVG Train Loss 91.5250455285016\n",
      "Epoch 64: Loss 2.5367207527160645 AVG Train Loss 89.96239185137529\n",
      "Epoch 65: Loss 2.4780566692352295 AVG Train Loss 88.46472248252428\n",
      "Epoch 66: Loss 2.4234862327575684 AVG Train Loss 87.02689523297225\n",
      "Epoch 67: Loss 2.3726251125335693 AVG Train Loss 85.64452886001777\n",
      "Epoch 68: Loss 2.325361967086792 AVG Train Loss 84.31390140498885\n",
      "Epoch 69: Loss 2.281224012374878 AVG Train Loss 83.0309472235419\n",
      "Epoch 70: Loss 2.2401232719421387 AVG Train Loss 81.79289941009816\n",
      "Epoch 71: Loss 2.2017953395843506 AVG Train Loss 80.59681800893888\n",
      "Epoch 72: Loss 2.166043281555176 AVG Train Loss 79.43990718237102\n",
      "Epoch 73: Loss 2.1326889991760254 AVG Train Loss 78.320066862868\n",
      "Epoch 74: Loss 2.1014292240142822 AVG Train Loss 77.23484313539686\n",
      "Epoch 75: Loss 2.072354793548584 AVG Train Loss 76.18261370527559\n",
      "Epoch 76: Loss 2.04508638381958 AVG Train Loss 75.16131087439747\n",
      "Epoch 77: Loss 2.019646167755127 AVG Train Loss 74.16945758498238\n",
      "Epoch 78: Loss 1.9958956241607666 AVG Train Loss 73.2054951020803\n",
      "Epoch 79: Loss 1.973582148551941 AVG Train Loss 72.2680226603075\n",
      "Epoch 80: Loss 1.9527904987335205 AVG Train Loss 71.35589629236783\n",
      "Epoch 81: Loss 1.933275580406189 AVG Train Loss 70.46783231581378\n",
      "Epoch 82: Loss 1.9150727987289429 AVG Train Loss 69.6026679114325\n",
      "Epoch 83: Loss 1.8979438543319702 AVG Train Loss 68.7594886849682\n",
      "Epoch 84: Loss 1.8818756341934204 AVG Train Loss 67.93735939875825\n",
      "Epoch 85: Loss 1.8668867349624634 AVG Train Loss 67.13546582502929\n",
      "Epoch 86: Loss 1.8528611660003662 AVG Train Loss 66.35283122315182\n",
      "Epoch 87: Loss 1.8396852016448975 AVG Train Loss 65.58880493632901\n",
      "Epoch 88: Loss 1.8273502588272095 AVG Train Loss 64.84265732259865\n",
      "Epoch 89: Loss 1.8157352209091187 AVG Train Loss 64.11358335719322\n",
      "Epoch 90: Loss 1.8048337697982788 AVG Train Loss 63.40108708521536\n",
      "Epoch 91: Loss 1.7946395874023438 AVG Train Loss 62.70458333819892\n",
      "Epoch 92: Loss 1.7850857973098755 AVG Train Loss 62.02344087747738\n",
      "Epoch 93: Loss 1.7760860919952393 AVG Train Loss 61.35701422640673\n",
      "Epoch 94: Loss 1.7677077054977417 AVG Train Loss 60.705090510122666\n",
      "Epoch 95: Loss 1.75978422164917 AVG Train Loss 60.06687424759454\n",
      "Epoch 96: Loss 1.7523531913757324 AVG Train Loss 59.442120107623246\n",
      "Epoch 97: Loss 1.745381474494934 AVG Train Loss 58.83032532846771\n",
      "Epoch 98: Loss 1.7387856245040894 AVG Train Loss 58.230993626772296\n",
      "Epoch 99: Loss 1.7326542139053345 AVG Train Loss 57.643937987167234\n"
     ]
    }
   ],
   "source": [
    "with tf.Session() as sess:\n",
    "    # Step 7: initialize the necessary variables, in this case, w and b\n",
    "    sess.run(tf.global_variables_initializer())\n",
    "    train_loss_hist = []\n",
    "    # Step 8: train the model for 100 epochs\n",
    "    for i in range(100): # train the model 100 epochs\n",
    "        total_loss = 0\n",
    "        avg_train_loss = 0\n",
    "        for x, y in data:\n",
    "            x = np.array(x)\n",
    "            y = np.array(y)       \n",
    "            _, loss_ = sess.run([optimizer, loss], feed_dict={X: x, Y: y})\n",
    "            total_loss += loss_\n",
    "        avg_train_loss = total_loss / i\n",
    "        train_loss_hist.append(avg_train_loss)\n",
    "        print('Epoch {0}: Loss {1} AVG Train Loss {2}'.format(i, loss_, avg_train_loss))\n",
    "# close the writer when you're done using it\n",
    "writer.close()\n",
    "# sess.close()"
   ]
  },
  {
   "cell_type": "markdown",
   "metadata": {},
   "source": [
    "### Visualization"
   ]
  },
  {
   "cell_type": "code",
   "execution_count": 30,
   "metadata": {},
   "outputs": [
    {
     "data": {
      "text/plain": [
       "<matplotlib.legend.Legend at 0xb187e8d30>"
      ]
     },
     "execution_count": 30,
     "metadata": {},
     "output_type": "execute_result"
    },
    {
     "data": {
      "image/png": "[encoded data removed]",
      "text/plain": [
       "<Figure size 432x288 with 1 Axes>"
      ]
     },
     "metadata": {},
     "output_type": "display_data"
    }
   ],
   "source": [
    "plt.plot(train_loss_hist, label = 'train')\n",
    "plt.legend()"
   ]
  },
  {
   "cell_type": "markdown",
   "metadata": {},
   "source": [
    "### Step 9: output the values of w and b"
   ]
  },
  {
   "cell_type": "code",
   "execution_count": 19,
   "metadata": {},
   "outputs": [
    {
     "name": "stdout",
     "output_type": "stream",
     "text": [
      "Took: 90.014647 seconds\n"
     ]
    }
   ],
   "source": [
    "w_out, b_out = None, None\n",
    "#############################  작업 해야함\n",
    "########## TO DO ############\n",
    "#############################\n",
    "\n",
    "print('Took: %f seconds' %(time.time() - start))"
   ]
  },
  {
   "cell_type": "code",
   "execution_count": 20,
   "metadata": {},
   "outputs": [
    {
     "ename": "TypeError",
     "evalue": "unsupported operand type(s) for *: 'float' and 'NoneType'",
     "output_type": "error",
     "traceback": [
      "\u001b[0;31m---------------------------------------------------------------------------\u001b[0m",
      "\u001b[0;31mTypeError\u001b[0m                                 Traceback (most recent call last)",
      "\u001b[0;32m<ipython-input-20-860e66a8f37c>\u001b[0m in \u001b[0;36m<module>\u001b[0;34m()\u001b[0m\n\u001b[1;32m      1\u001b[0m \u001b[0;31m# uncomment the following lines to see the plot\u001b[0m\u001b[0;34m\u001b[0m\u001b[0;34m\u001b[0m\u001b[0m\n\u001b[1;32m      2\u001b[0m \u001b[0mplt\u001b[0m\u001b[0;34m.\u001b[0m\u001b[0mplot\u001b[0m\u001b[0;34m(\u001b[0m\u001b[0mdata\u001b[0m\u001b[0;34m[\u001b[0m\u001b[0;34m:\u001b[0m\u001b[0;34m,\u001b[0m\u001b[0;36m0\u001b[0m\u001b[0;34m]\u001b[0m\u001b[0;34m,\u001b[0m \u001b[0mdata\u001b[0m\u001b[0;34m[\u001b[0m\u001b[0;34m:\u001b[0m\u001b[0;34m,\u001b[0m\u001b[0;36m1\u001b[0m\u001b[0;34m]\u001b[0m\u001b[0;34m,\u001b[0m \u001b[0;34m'bo'\u001b[0m\u001b[0;34m,\u001b[0m \u001b[0mlabel\u001b[0m\u001b[0;34m=\u001b[0m\u001b[0;34m'Real data'\u001b[0m\u001b[0;34m)\u001b[0m\u001b[0;34m\u001b[0m\u001b[0m\n\u001b[0;32m----> 3\u001b[0;31m \u001b[0mplt\u001b[0m\u001b[0;34m.\u001b[0m\u001b[0mplot\u001b[0m\u001b[0;34m(\u001b[0m\u001b[0mdata\u001b[0m\u001b[0;34m[\u001b[0m\u001b[0;34m:\u001b[0m\u001b[0;34m,\u001b[0m\u001b[0;36m0\u001b[0m\u001b[0;34m]\u001b[0m\u001b[0;34m,\u001b[0m \u001b[0mdata\u001b[0m\u001b[0;34m[\u001b[0m\u001b[0;34m:\u001b[0m\u001b[0;34m,\u001b[0m\u001b[0;36m0\u001b[0m\u001b[0;34m]\u001b[0m \u001b[0;34m*\u001b[0m \u001b[0mw_out\u001b[0m \u001b[0;34m+\u001b[0m \u001b[0mb_out\u001b[0m\u001b[0;34m,\u001b[0m \u001b[0;34m'r'\u001b[0m\u001b[0;34m,\u001b[0m \u001b[0mlabel\u001b[0m\u001b[0;34m=\u001b[0m\u001b[0;34m'Predicted data'\u001b[0m\u001b[0;34m)\u001b[0m\u001b[0;34m\u001b[0m\u001b[0m\n\u001b[0m\u001b[1;32m      4\u001b[0m \u001b[0mplt\u001b[0m\u001b[0;34m.\u001b[0m\u001b[0mlegend\u001b[0m\u001b[0;34m(\u001b[0m\u001b[0;34m)\u001b[0m\u001b[0;34m\u001b[0m\u001b[0m\n\u001b[1;32m      5\u001b[0m \u001b[0mplt\u001b[0m\u001b[0;34m.\u001b[0m\u001b[0mshow\u001b[0m\u001b[0;34m(\u001b[0m\u001b[0;34m)\u001b[0m\u001b[0;34m\u001b[0m\u001b[0m\n",
      "\u001b[0;31mTypeError\u001b[0m: unsupported operand type(s) for *: 'float' and 'NoneType'"
     ]
    },
    {
     "data": {
      "image/png": "[encoded data removed]",
      "text/plain": [
       "<Figure size 432x288 with 1 Axes>"
      ]
     },
     "metadata": {},
     "output_type": "display_data"
    }
   ],
   "source": [
    "# uncomment the following lines to see the plot \n",
    "plt.plot(data[:,0], data[:,1], 'bo', label='Real data')\n",
    "plt.plot(data[:,0], data[:,0] * w_out + b_out, 'r', label='Predicted data')\n",
    "plt.legend()\n",
    "plt.show()"
   ]
  },
  {
   "cell_type": "code",
   "execution_count": null,
   "metadata": {},
   "outputs": [],
   "source": []
  },
  {
   "cell_type": "code",
   "execution_count": null,
   "metadata": {},
   "outputs": [],
   "source": []
  },
  {
   "cell_type": "code",
   "execution_count": null,
   "metadata": {},
   "outputs": [],
   "source": []
  },
  {
   "cell_type": "code",
   "execution_count": null,
   "metadata": {},
   "outputs": [],
   "source": []
  },
  {
   "cell_type": "code",
   "execution_count": null,
   "metadata": {},
   "outputs": [],
   "source": []
  },
  {
   "cell_type": "code",
   "execution_count": null,
   "metadata": {},
   "outputs": [],
   "source": []
  },
  {
   "cell_type": "code",
   "execution_count": null,
   "metadata": {},
   "outputs": [],
   "source": []
  },
  {
   "cell_type": "code",
   "execution_count": null,
   "metadata": {},
   "outputs": [],
   "source": []
  },
  {
   "cell_type": "code",
   "execution_count": null,
   "metadata": {},
   "outputs": [],
   "source": []
  },
  {
   "cell_type": "code",
   "execution_count": null,
   "metadata": {},
   "outputs": [],
   "source": []
  },
  {
   "cell_type": "code",
   "execution_count": null,
   "metadata": {},
   "outputs": [],
   "source": []
  },
  {
   "cell_type": "code",
   "execution_count": null,
   "metadata": {},
   "outputs": [],
   "source": []
  }
 ],
 "metadata": {
  "kernelspec": {
   "display_name": "Python 3",
   "language": "python",
   "name": "python3"
  },
  "language_info": {
   "codemirror_mode": {
    "name": "ipython",
    "version": 3
   },
   "file_extension": ".py",
   "mimetype": "text/x-python",
   "name": "python",
   "nbconvert_exporter": "python",
   "pygments_lexer": "ipython3",
   "version": "3.6.4"
  }
 },
 "nbformat": 4,
 "nbformat_minor": 2
}
