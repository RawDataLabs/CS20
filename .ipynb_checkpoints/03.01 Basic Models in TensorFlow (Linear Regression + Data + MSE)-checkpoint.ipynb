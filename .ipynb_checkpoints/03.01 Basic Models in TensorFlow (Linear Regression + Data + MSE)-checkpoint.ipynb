{
 "cells": [
  {
   "cell_type": "markdown",
   "metadata": {},
   "source": [
    "# 03.01 Basic Models in TensorFlow (Linear Regression + Data + MSE)"
   ]
  },
  {
   "cell_type": "markdown",
   "metadata": {},
   "source": [
    "### Linear Regression in TensorFlow"
   ]
  },
  {
   "cell_type": "markdown",
   "metadata": {},
   "source": [
    "모델 간의 선형 관계 :    \n",
    "    종속 변수 Y  \n",
    "    설명 변수 X  "
   ]
  },
  {
   "cell_type": "markdown",
   "metadata": {},
   "source": [
    "[Visualization made by Google, based on data collected by World Bank](https://www.google.com/publicdata/explore?ds=d5bncppjof8f9_&ctype=b&strail=false&nselm=s&met_x=sp_dyn_le00_in&scale_x=lin&ind_x=false&met_y=sp_dyn_tfrt_in&scale_y=lin&ind_y=false&met_s=sp_pop_totl&scale_s=lin&ind_s=false&dimp_c=country:region&ifdim=country&iconSize=0.5&uniSize=0.035#!ctype=b&strail=false&bcs=d&nselm=s&met_x=sp_dyn_le00_in&scale_x=lin&ind_x=false&met_y=sp_dyn_tfrt_in&scale_y=lin&ind_y=false&met_s=sp_pop_totl&scale_s=lin&ind_s=false&dimp_c=country:region&ifdim=country&pit=1421395200000&hl=en_US&dl=en_US&ind=false)"
   ]
  },
  {
   "cell_type": "markdown",
   "metadata": {},
   "source": [
    "![Alt_text](./03_images/01.png)"
   ]
  },
  {
   "cell_type": "markdown",
   "metadata": {},
   "source": [
    "### World Development Indicators dataset"
   ]
  },
  {
   "cell_type": "markdown",
   "metadata": {},
   "source": [
    "X : 출생률 (Birth Rate)    \n",
    "Y : 평균 수명 (Life Expectancy)   \n",
    "190 개국    "
   ]
  },
  {
   "cell_type": "markdown",
   "metadata": {},
   "source": [
    "### Model"
   ]
  },
  {
   "cell_type": "markdown",
   "metadata": {},
   "source": [
    "추론 :   Y_predicted = w * X + b  \n",
    "Mean squared error(Object Function):   E[(y - y_predicted)2]  "
   ]
  },
  {
   "cell_type": "markdown",
   "metadata": {},
   "source": [
    "### 불러오기 패키지"
   ]
  },
  {
   "cell_type": "code",
   "execution_count": 1,
   "metadata": {},
   "outputs": [
    {
     "name": "stderr",
     "output_type": "stream",
     "text": [
      "/Users/JunChangWook/anaconda2/envs/py36/lib/python3.6/site-packages/h5py/__init__.py:36: FutureWarning: Conversion of the second argument of issubdtype from `float` to `np.floating` is deprecated. In future, it will be treated as `np.float64 == np.dtype(float).type`.\n",
      "  from ._conv import register_converters as _register_converters\n"
     ]
    }
   ],
   "source": [
    "import os\n",
    "os.environ['TF_CPP_MIN_LOG_LEVEL']='2'\n",
    "import time\n",
    "\n",
    "import numpy as np\n",
    "import matplotlib.pyplot as plt\n",
    "import tensorflow as tf\n",
    "import sys\n",
    "import pandas as pd\n",
    "%matplotlib inline"
   ]
  },
  {
   "cell_type": "markdown",
   "metadata": {},
   "source": [
    "### Loss Funcation"
   ]
  },
  {
   "cell_type": "markdown",
   "metadata": {},
   "source": [
    "### Huber loss"
   ]
  },
  {
   "cell_type": "markdown",
   "metadata": {},
   "source": [
    "특이점에 강한 모습을 보인다.  \n",
    "\n",
    "1. 예측 값과 임계 값의 차이가 작은 경우에는 제곱한다.  \n",
    "2. 예측 값과 임계 값의 차이가 크면 절대값을 취하십시오."
   ]
  },
  {
   "cell_type": "markdown",
   "metadata": {},
   "source": [
    "![Alt_text](./03_images/03.png)"
   ]
  },
  {
   "cell_type": "markdown",
   "metadata": {},
   "source": [
    "tf.cond(pred, fn1, fn2, name=None) "
   ]
  },
  {
   "cell_type": "markdown",
   "metadata": {},
   "source": [
    "### Control Flow Ops: tf.group, tf.count_up_to, tf.cond, tf.case, tf.while_loop, ...\n",
    "### Comparison Ops: tf.equal, tf.not_equal, tf.less, tf.greater, tf.where, ...\n",
    "### Logical Ops: tf.logical_and, tf.logical_not, tf.logical_or, tf.logical_xor\n",
    "### Debugging Ops: tf.is_finite, tf.is_inf, tf.is_nan, tf.Assert, tf.Print, ..."
   ]
  },
  {
   "cell_type": "code",
   "execution_count": 2,
   "metadata": {},
   "outputs": [],
   "source": [
    "def huber_loss(labels, predictions, delta=14.0): # delta가 특정 임계값을 지정해 주고 있다.\n",
    "    residual = tf.abs(labels - predictions) # 두값의 차를 구한다.\n",
    "    def f1(): return 0.5 * tf.square(residual) # 차에 제곱을 하고 0.5를 곱한다. (임계값보다 작을때)\n",
    "    def f2(): return delta * residual - 0.5 * tf.square(delta) # delta * 차 를 하고 뺀다. 차에 제곱을 하고 0.5를 곱한 값에 (임계값보다 작을때)\n",
    "    return tf.cond(residual < delta, f1, f2) # tf.cond 구조는 조건이 참이면 f1 거짓이면 f2 실행하는 삼항 연산자와 같다 ."
   ]
  },
  {
   "cell_type": "markdown",
   "metadata": {},
   "source": [
    "### 데이터 불러오기"
   ]
  },
  {
   "cell_type": "code",
   "execution_count": 3,
   "metadata": {},
   "outputs": [],
   "source": [
    "DATA_FILE = 'data/birth_life_2010.txt'"
   ]
  },
  {
   "cell_type": "code",
   "execution_count": 4,
   "metadata": {},
   "outputs": [],
   "source": [
    "def read_birth_life_data(filename):\n",
    "    \"\"\"\n",
    "     birth_life_2010.txt를 읽고\n",
    "     NumPy 배열 (data) 와 샘플수 (n_samples)를 반환 한다. \n",
    "    \"\"\"\n",
    "    text = open(filename, 'r').readlines()[1:] # 파일 전체를 읽는다.\n",
    "    data = [line[:-1].split('\\t') for line in text] # tab으로 자른다. 끝까지  그럼 나라  생일/t출생률/t기대수명/t\n",
    "    births = [float(line[1]) for line in data] # 출생률 값을 가져 온다. \n",
    "    lifes = [float(line[2]) for line in data] # 기대수명 값을 가져 온다.\n",
    "    data = list(zip(births, lifes)) # 두개를 묶어서 List로 변환 한다.\n",
    "    n_samples = len(data) # list 전체 길이를 가져온다.\n",
    "    data = np.asarray(data, dtype=np.float32) # list를 np array로 변경하기 위해서 np.asarray를 사용하고 있다.\n",
    "    return data, n_samples"
   ]
  },
  {
   "cell_type": "markdown",
   "metadata": {},
   "source": [
    "### Pandas 데이터 확인"
   ]
  },
  {
   "cell_type": "code",
   "execution_count": 5,
   "metadata": {},
   "outputs": [],
   "source": [
    "df = pd.read_table(DATA_FILE)"
   ]
  },
  {
   "cell_type": "code",
   "execution_count": 6,
   "metadata": {},
   "outputs": [
    {
     "data": {
      "text/html": [
       "<div>\n",
       "<style scoped>\n",
       "    .dataframe tbody tr th:only-of-type {\n",
       "        vertical-align: middle;\n",
       "    }\n",
       "\n",
       "    .dataframe tbody tr th {\n",
       "        vertical-align: top;\n",
       "    }\n",
       "\n",
       "    .dataframe thead th {\n",
       "        text-align: right;\n",
       "    }\n",
       "</style>\n",
       "<table border=\"1\" class=\"dataframe\">\n",
       "  <thead>\n",
       "    <tr style=\"text-align: right;\">\n",
       "      <th></th>\n",
       "      <th>Country</th>\n",
       "      <th>Birth rate</th>\n",
       "      <th>Life expectancy</th>\n",
       "    </tr>\n",
       "  </thead>\n",
       "  <tbody>\n",
       "    <tr>\n",
       "      <th>0</th>\n",
       "      <td>Vietnam</td>\n",
       "      <td>1.822</td>\n",
       "      <td>74.828244</td>\n",
       "    </tr>\n",
       "    <tr>\n",
       "      <th>1</th>\n",
       "      <td>Vanuatu</td>\n",
       "      <td>3.869</td>\n",
       "      <td>70.819488</td>\n",
       "    </tr>\n",
       "    <tr>\n",
       "      <th>2</th>\n",
       "      <td>Tonga</td>\n",
       "      <td>3.911</td>\n",
       "      <td>72.150659</td>\n",
       "    </tr>\n",
       "    <tr>\n",
       "      <th>3</th>\n",
       "      <td>Timor-Leste</td>\n",
       "      <td>5.578</td>\n",
       "      <td>61.999854</td>\n",
       "    </tr>\n",
       "    <tr>\n",
       "      <th>4</th>\n",
       "      <td>Thailand</td>\n",
       "      <td>1.579</td>\n",
       "      <td>73.927659</td>\n",
       "    </tr>\n",
       "  </tbody>\n",
       "</table>\n",
       "</div>"
      ],
      "text/plain": [
       "       Country  Birth rate  Life expectancy\n",
       "0      Vietnam       1.822        74.828244\n",
       "1      Vanuatu       3.869        70.819488\n",
       "2        Tonga       3.911        72.150659\n",
       "3  Timor-Leste       5.578        61.999854\n",
       "4     Thailand       1.579        73.927659"
      ]
     },
     "execution_count": 6,
     "metadata": {},
     "output_type": "execute_result"
    }
   ],
   "source": [
    "df.head()"
   ]
  },
  {
   "cell_type": "markdown",
   "metadata": {},
   "source": [
    "### Step 1: 데이터 읽어오기 "
   ]
  },
  {
   "cell_type": "code",
   "execution_count": 7,
   "metadata": {},
   "outputs": [],
   "source": [
    "data, n_samples = read_birth_life_data(DATA_FILE)"
   ]
  },
  {
   "cell_type": "code",
   "execution_count": 8,
   "metadata": {},
   "outputs": [
    {
     "data": {
      "text/plain": [
       "190"
      ]
     },
     "execution_count": 8,
     "metadata": {},
     "output_type": "execute_result"
    }
   ],
   "source": [
    "n_samples"
   ]
  },
  {
   "cell_type": "code",
   "execution_count": 9,
   "metadata": {},
   "outputs": [
    {
     "data": {
      "text/plain": [
       "(190, 2)"
      ]
     },
     "execution_count": 9,
     "metadata": {},
     "output_type": "execute_result"
    }
   ],
   "source": [
    "data.shape"
   ]
  },
  {
   "cell_type": "code",
   "execution_count": 10,
   "metadata": {},
   "outputs": [
    {
     "data": {
      "text/plain": [
       "array([[ 1.822   , 74.82825 ],\n",
       "       [ 3.869   , 70.81949 ],\n",
       "       [ 3.911   , 72.15066 ],\n",
       "       [ 5.578   , 61.999855],\n",
       "       [ 1.579   , 73.92766 ],\n",
       "       [ 4.229   , 67.465195],\n",
       "       [ 1.15    , 81.641464],\n",
       "       [ 3.86    , 72.30639 ],\n",
       "       [ 3.142   , 68.484314],\n",
       "       [ 3.951   , 62.44061 ],\n",
       "       [ 2.16    , 80.70244 ],\n",
       "       [ 2.141   , 76.30168 ],\n",
       "       [ 2.002   , 64.662094],\n",
       "       [ 2.504   , 68.19498 ],\n",
       "       [ 3.451   , 68.76483 ],\n",
       "       [ 2.635   , 74.02456 ],\n",
       "       [ 1.092   , 80.775314],\n",
       "       [ 2.747   , 67.064   ],\n",
       "       [ 1.22    , 80.76195 ],\n",
       "       [ 1.39    , 82.932686],\n",
       "       [ 2.117   , 68.889656],\n",
       "       [ 1.108   , 82.87805 ],\n",
       "       [ 2.47    , 75.99427 ],\n",
       "       [ 2.09    , 75.07688 ],\n",
       "       [ 2.668   , 69.22583 ],\n",
       "       [ 2.022   , 68.53214 ],\n",
       "       [ 1.598   , 73.273094],\n",
       "       [ 2.581   , 62.53622 ],\n",
       "       [ 2.042   , 77.93202 ],\n",
       "       [ 1.92    , 81.69512 ],\n",
       "       [ 2.499   , 68.001   ],\n",
       "       [ 1.94    , 80.402435],\n",
       "       [ 1.445   , 70.27561 ],\n",
       "       [ 2.399   , 64.86351 ],\n",
       "       [ 2.088   , 73.696655],\n",
       "       [ 3.297   , 67.2599  ],\n",
       "       [ 1.5     , 82.24634 ],\n",
       "       [ 1.98    , 81.45122 ],\n",
       "       [ 1.39    , 81.62683 ],\n",
       "       [ 1.57    , 79.42195 ],\n",
       "       [ 1.4     , 75.1122  ],\n",
       "       [ 1.4     , 73.936584],\n",
       "       [ 1.54    , 68.80488 ],\n",
       "       [ 1.38    , 73.458534],\n",
       "       [ 1.32    , 79.02683 ],\n",
       "       [ 1.38    , 76.24634 ],\n",
       "       [ 1.95    , 80.99756 ],\n",
       "       [ 1.79    , 80.70244 ],\n",
       "       [ 1.656   , 74.3111  ],\n",
       "       [ 1.475   , 68.90371 ],\n",
       "       [ 1.422   , 74.61885 ],\n",
       "       [ 1.63    , 80.08781 ],\n",
       "       [ 1.55    , 73.268295],\n",
       "       [ 1.17    , 73.482925],\n",
       "       [ 2.898   , 69.36846 ],\n",
       "       [ 2.2893  , 69.88439 ],\n",
       "       [ 2.59    , 68.295364],\n",
       "       [ 1.4     , 81.73659 ],\n",
       "       [ 2.07    , 80.291954],\n",
       "       [ 2.2     , 81.45122 ],\n",
       "       [ 1.25    , 74.20731 ],\n",
       "       [ 1.44    , 80.3878  ],\n",
       "       [ 1.39    , 79.98781 ],\n",
       "       [ 1.555   , 73.32734 ],\n",
       "       [ 2.      , 81.36829 ],\n",
       "       [ 1.87    , 79.870735],\n",
       "       [ 1.63    , 75.42927 ],\n",
       "       [ 1.87    , 79.1     ],\n",
       "       [ 1.49    , 77.42439 ],\n",
       "       [ 1.476   , 79.380394],\n",
       "       [ 1.46    , 76.47561 ],\n",
       "       [ 1.46    , 79.832   ],\n",
       "       [ 1.49    , 73.51219 ],\n",
       "       [ 1.148   , 75.40044 ],\n",
       "       [ 1.84    , 79.936584],\n",
       "       [ 1.44    , 70.40488 ],\n",
       "       [ 2.3     , 70.506516],\n",
       "       [ 1.44    , 80.38293 ],\n",
       "       [ 1.736   , 73.78356 ],\n",
       "       [ 1.536   , 76.90095 ],\n",
       "       [ 1.8     , 79.18944 ],\n",
       "       [ 2.49    , 74.12732 ],\n",
       "       [ 1.9856  , 76.23683 ],\n",
       "       [ 1.639   , 69.755   ],\n",
       "       [ 1.896   , 75.22212 ],\n",
       "       [ 2.336   , 70.33532 ],\n",
       "       [ 2.064   , 72.11253 ],\n",
       "       [ 1.98    , 74.4399  ],\n",
       "       [ 1.797   , 78.91329 ],\n",
       "       [ 2.501   , 73.76498 ],\n",
       "       [ 2.954   , 72.277   ],\n",
       "       [ 2.484   , 75.97424 ],\n",
       "       [ 2.622   , 73.72922 ],\n",
       "       [ 2.32    , 76.68378 ],\n",
       "       [ 2.329   , 72.84712 ],\n",
       "       [ 3.139   , 72.82593 ],\n",
       "       [ 3.34    , 61.763   ],\n",
       "       [ 2.262   , 69.54915 ],\n",
       "       [ 3.983   , 70.82542 ],\n",
       "       [ 2.235   , 75.66044 ],\n",
       "       [ 2.25    , 71.73237 ],\n",
       "       [ 2.479   , 75.462296],\n",
       "       [ 2.58    , 73.20003 ],\n",
       "       [ 1.467   , 78.96415 ],\n",
       "       [ 1.848   , 79.19261 ],\n",
       "       [ 2.1     , 73.42968 ],\n",
       "       [ 1.862   , 78.885735],\n",
       "       [ 1.83    , 73.09953 ],\n",
       "       [ 3.348   , 66.26856 ],\n",
       "       [ 2.79    , 75.83995 ],\n",
       "       [ 1.551   , 76.57283 ],\n",
       "       [ 1.699   , 74.975174],\n",
       "       [ 2.211   , 75.63215 ],\n",
       "       [ 5.2     , 65.030464],\n",
       "       [ 4.453   , 72.643684],\n",
       "       [ 1.749   , 76.57361 ],\n",
       "       [ 2.04    , 74.6     ],\n",
       "       [ 2.934   , 75.70256 ],\n",
       "       [ 2.811   , 73.85042 ],\n",
       "       [ 2.271   , 78.09759 ],\n",
       "       [ 2.309   , 73.12461 ],\n",
       "       [ 2.279   , 71.86463 ],\n",
       "       [ 1.38    , 80.948784],\n",
       "       [ 2.564   , 74.75312 ],\n",
       "       [ 1.8     , 72.40875 ],\n",
       "       [ 2.295   , 74.60473 ],\n",
       "       [ 3.8     , 73.28966 ],\n",
       "       [ 3.03    , 81.504875],\n",
       "       [ 4.702   , 68.486046],\n",
       "       [ 1.67    , 72.751854],\n",
       "       [ 2.733   , 72.975266],\n",
       "       [ 3.75    , 57.52739 ],\n",
       "       [ 2.54    , 75.02383 ],\n",
       "       [ 2.264   , 72.85254 ],\n",
       "       [ 2.1     , 78.24146 ],\n",
       "       [ 1.677   , 80.797806],\n",
       "       [ 1.764   , 79.288536],\n",
       "       [ 2.313   , 74.72261 ],\n",
       "       [ 3.423   , 65.19885 ],\n",
       "       [ 2.727   , 68.39483 ],\n",
       "       [ 1.752   , 76.551414],\n",
       "       [ 2.625   , 65.13134 ],\n",
       "       [ 2.399   , 66.90885 ],\n",
       "       [ 2.245   , 68.6348  ],\n",
       "       [ 6.288   , 48.282196],\n",
       "       [ 3.29    , 49.860878],\n",
       "       [ 6.258   , 48.455486],\n",
       "       [ 6.149   , 53.614635],\n",
       "       [ 4.072   , 56.588707],\n",
       "       [ 4.896   , 58.160023],\n",
       "       [ 5.544   , 57.38749 ],\n",
       "       [ 3.364   , 48.342804],\n",
       "       [ 4.4     , 61.108242],\n",
       "       [ 2.458   , 52.08149 ],\n",
       "       [ 6.339   , 50.89554 ],\n",
       "       [ 4.982   , 47.402195],\n",
       "       [ 2.5     , 73.03415 ],\n",
       "       [ 4.819   , 58.954075],\n",
       "       [ 5.371   , 55.05712 ],\n",
       "       [ 5.525   , 51.410023],\n",
       "       [ 7.063   , 54.265633],\n",
       "       [ 3.217   , 62.0701  ],\n",
       "       [ 4.912   , 49.696926],\n",
       "       [ 1.47    , 72.967316],\n",
       "       [ 4.533   , 58.21695 ],\n",
       "       [ 6.294   , 50.95483 ],\n",
       "       [ 5.99    , 53.462635],\n",
       "       [ 4.651   , 66.46707 ],\n",
       "       [ 5.238   , 56.147587],\n",
       "       [ 3.199   , 47.365074],\n",
       "       [ 4.718   , 56.497074],\n",
       "       [ 5.063   , 47.700657],\n",
       "       [ 5.246   , 53.638584],\n",
       "       [ 4.17    , 63.83727 ],\n",
       "       [ 3.25    , 62.286682],\n",
       "       [ 4.193   , 58.7151  ],\n",
       "       [ 4.453   , 60.994194],\n",
       "       [ 5.185   , 50.840805],\n",
       "       [ 5.775   , 48.069584],\n",
       "       [ 4.544   , 56.960194],\n",
       "       [ 4.919   , 60.626266],\n",
       "       [ 5.981   , 49.194828],\n",
       "       [ 4.631   , 47.61846 ],\n",
       "       [ 2.405   , 73.77405 ],\n",
       "       [ 4.487   , 51.062756],\n",
       "       [ 4.338   , 49.87722 ],\n",
       "       [ 5.85    , 54.924194],\n",
       "       [ 2.75    , 53.109512],\n",
       "       [ 5.287   , 55.585587],\n",
       "       [ 5.443   , 50.65366 ]], dtype=float32)"
      ]
     },
     "execution_count": 10,
     "metadata": {},
     "output_type": "execute_result"
    }
   ],
   "source": [
    "data"
   ]
  },
  {
   "cell_type": "markdown",
   "metadata": {},
   "source": [
    "### 1열만 가져오기 Birth Rate"
   ]
  },
  {
   "cell_type": "code",
   "execution_count": 11,
   "metadata": {},
   "outputs": [
    {
     "data": {
      "text/plain": [
       "array([1.822 , 3.869 , 3.911 , 5.578 , 1.579 , 4.229 , 1.15  , 3.86  ,\n",
       "       3.142 , 3.951 , 2.16  , 2.141 , 2.002 , 2.504 , 3.451 , 2.635 ,\n",
       "       1.092 , 2.747 , 1.22  , 1.39  , 2.117 , 1.108 , 2.47  , 2.09  ,\n",
       "       2.668 , 2.022 , 1.598 , 2.581 , 2.042 , 1.92  , 2.499 , 1.94  ,\n",
       "       1.445 , 2.399 , 2.088 , 3.297 , 1.5   , 1.98  , 1.39  , 1.57  ,\n",
       "       1.4   , 1.4   , 1.54  , 1.38  , 1.32  , 1.38  , 1.95  , 1.79  ,\n",
       "       1.656 , 1.475 , 1.422 , 1.63  , 1.55  , 1.17  , 2.898 , 2.2893,\n",
       "       2.59  , 1.4   , 2.07  , 2.2   , 1.25  , 1.44  , 1.39  , 1.555 ,\n",
       "       2.    , 1.87  , 1.63  , 1.87  , 1.49  , 1.476 , 1.46  , 1.46  ,\n",
       "       1.49  , 1.148 , 1.84  , 1.44  , 2.3   , 1.44  , 1.736 , 1.536 ,\n",
       "       1.8   , 2.49  , 1.9856, 1.639 , 1.896 , 2.336 , 2.064 , 1.98  ,\n",
       "       1.797 , 2.501 , 2.954 , 2.484 , 2.622 , 2.32  , 2.329 , 3.139 ,\n",
       "       3.34  , 2.262 , 3.983 , 2.235 , 2.25  , 2.479 , 2.58  , 1.467 ,\n",
       "       1.848 , 2.1   , 1.862 , 1.83  , 3.348 , 2.79  , 1.551 , 1.699 ,\n",
       "       2.211 , 5.2   , 4.453 , 1.749 , 2.04  , 2.934 , 2.811 , 2.271 ,\n",
       "       2.309 , 2.279 , 1.38  , 2.564 , 1.8   , 2.295 , 3.8   , 3.03  ,\n",
       "       4.702 , 1.67  , 2.733 , 3.75  , 2.54  , 2.264 , 2.1   , 1.677 ,\n",
       "       1.764 , 2.313 , 3.423 , 2.727 , 1.752 , 2.625 , 2.399 , 2.245 ,\n",
       "       6.288 , 3.29  , 6.258 , 6.149 , 4.072 , 4.896 , 5.544 , 3.364 ,\n",
       "       4.4   , 2.458 , 6.339 , 4.982 , 2.5   , 4.819 , 5.371 , 5.525 ,\n",
       "       7.063 , 3.217 , 4.912 , 1.47  , 4.533 , 6.294 , 5.99  , 4.651 ,\n",
       "       5.238 , 3.199 , 4.718 , 5.063 , 5.246 , 4.17  , 3.25  , 4.193 ,\n",
       "       4.453 , 5.185 , 5.775 , 4.544 , 4.919 , 5.981 , 4.631 , 2.405 ,\n",
       "       4.487 , 4.338 , 5.85  , 2.75  , 5.287 , 5.443 ], dtype=float32)"
      ]
     },
     "execution_count": 11,
     "metadata": {},
     "output_type": "execute_result"
    }
   ],
   "source": [
    " data[:,0] "
   ]
  },
  {
   "cell_type": "markdown",
   "metadata": {},
   "source": [
    "### 2열만 가져오기 Life expectancy"
   ]
  },
  {
   "cell_type": "code",
   "execution_count": 12,
   "metadata": {},
   "outputs": [
    {
     "data": {
      "text/plain": [
       "array([74.82825 , 70.81949 , 72.15066 , 61.999855, 73.92766 , 67.465195,\n",
       "       81.641464, 72.30639 , 68.484314, 62.44061 , 80.70244 , 76.30168 ,\n",
       "       64.662094, 68.19498 , 68.76483 , 74.02456 , 80.775314, 67.064   ,\n",
       "       80.76195 , 82.932686, 68.889656, 82.87805 , 75.99427 , 75.07688 ,\n",
       "       69.22583 , 68.53214 , 73.273094, 62.53622 , 77.93202 , 81.69512 ,\n",
       "       68.001   , 80.402435, 70.27561 , 64.86351 , 73.696655, 67.2599  ,\n",
       "       82.24634 , 81.45122 , 81.62683 , 79.42195 , 75.1122  , 73.936584,\n",
       "       68.80488 , 73.458534, 79.02683 , 76.24634 , 80.99756 , 80.70244 ,\n",
       "       74.3111  , 68.90371 , 74.61885 , 80.08781 , 73.268295, 73.482925,\n",
       "       69.36846 , 69.88439 , 68.295364, 81.73659 , 80.291954, 81.45122 ,\n",
       "       74.20731 , 80.3878  , 79.98781 , 73.32734 , 81.36829 , 79.870735,\n",
       "       75.42927 , 79.1     , 77.42439 , 79.380394, 76.47561 , 79.832   ,\n",
       "       73.51219 , 75.40044 , 79.936584, 70.40488 , 70.506516, 80.38293 ,\n",
       "       73.78356 , 76.90095 , 79.18944 , 74.12732 , 76.23683 , 69.755   ,\n",
       "       75.22212 , 70.33532 , 72.11253 , 74.4399  , 78.91329 , 73.76498 ,\n",
       "       72.277   , 75.97424 , 73.72922 , 76.68378 , 72.84712 , 72.82593 ,\n",
       "       61.763   , 69.54915 , 70.82542 , 75.66044 , 71.73237 , 75.462296,\n",
       "       73.20003 , 78.96415 , 79.19261 , 73.42968 , 78.885735, 73.09953 ,\n",
       "       66.26856 , 75.83995 , 76.57283 , 74.975174, 75.63215 , 65.030464,\n",
       "       72.643684, 76.57361 , 74.6     , 75.70256 , 73.85042 , 78.09759 ,\n",
       "       73.12461 , 71.86463 , 80.948784, 74.75312 , 72.40875 , 74.60473 ,\n",
       "       73.28966 , 81.504875, 68.486046, 72.751854, 72.975266, 57.52739 ,\n",
       "       75.02383 , 72.85254 , 78.24146 , 80.797806, 79.288536, 74.72261 ,\n",
       "       65.19885 , 68.39483 , 76.551414, 65.13134 , 66.90885 , 68.6348  ,\n",
       "       48.282196, 49.860878, 48.455486, 53.614635, 56.588707, 58.160023,\n",
       "       57.38749 , 48.342804, 61.108242, 52.08149 , 50.89554 , 47.402195,\n",
       "       73.03415 , 58.954075, 55.05712 , 51.410023, 54.265633, 62.0701  ,\n",
       "       49.696926, 72.967316, 58.21695 , 50.95483 , 53.462635, 66.46707 ,\n",
       "       56.147587, 47.365074, 56.497074, 47.700657, 53.638584, 63.83727 ,\n",
       "       62.286682, 58.7151  , 60.994194, 50.840805, 48.069584, 56.960194,\n",
       "       60.626266, 49.194828, 47.61846 , 73.77405 , 51.062756, 49.87722 ,\n",
       "       54.924194, 53.109512, 55.585587, 50.65366 ], dtype=float32)"
      ]
     },
     "execution_count": 12,
     "metadata": {},
     "output_type": "execute_result"
    }
   ],
   "source": [
    " data[:,1] "
   ]
  },
  {
   "cell_type": "markdown",
   "metadata": {},
   "source": [
    "### Step 2: Dataset을 만들고 반복하기"
   ]
  },
  {
   "cell_type": "code",
   "execution_count": 13,
   "metadata": {},
   "outputs": [],
   "source": [
    "#tf.data.Dataset.from_tensor_slices 함수는 tf.data.Dataset 를 생성하는 함수로 입력된 텐서로부터 slices를 생성합니다. \n",
    "#예를 들어 MNIST의 학습데이터 (60000, 28, 28)가 입력되면, 60000개의 slices로 만들고 각각의 slice는 28×28의 이미지 크기를 갖게 됩니다\n",
    "\n",
    "dataset = tf.data.Dataset.from_tensor_slices((data[:,0], data[:,1]))"
   ]
  },
  {
   "cell_type": "code",
   "execution_count": 14,
   "metadata": {},
   "outputs": [],
   "source": [
    "iterator = dataset.make_initializable_iterator()\n",
    "X, Y = iterator.get_next()"
   ]
  },
  {
   "cell_type": "markdown",
   "metadata": {},
   "source": [
    "### Setp 3: 초기화 0인 Weight 와 Bias 만들기"
   ]
  },
  {
   "cell_type": "code",
   "execution_count": 15,
   "metadata": {},
   "outputs": [],
   "source": [
    "w = tf.get_variable('weights', initializer=tf.constant(0.0))\n",
    "b = tf.get_variable('bias', initializer=tf.constant(0.0))"
   ]
  },
  {
   "cell_type": "markdown",
   "metadata": {},
   "source": [
    "### Step 4: 예측하기 위한 모델을 만든다."
   ]
  },
  {
   "cell_type": "code",
   "execution_count": 16,
   "metadata": {},
   "outputs": [],
   "source": [
    "Y_predicted = X * w + b"
   ]
  },
  {
   "cell_type": "markdown",
   "metadata": {},
   "source": [
    "### Setp 5: 손실 함수로 square error를 사용"
   ]
  },
  {
   "cell_type": "code",
   "execution_count": 17,
   "metadata": {},
   "outputs": [],
   "source": [
    "loss = tf.square(Y - Y_predicted, name='loss')"
   ]
  },
  {
   "cell_type": "code",
   "execution_count": 18,
   "metadata": {},
   "outputs": [],
   "source": [
    "# loss = huber_loss(Y - Y_predicted)"
   ]
  },
  {
   "cell_type": "markdown",
   "metadata": {},
   "source": [
    "### Step 6: 학습 속도가 0.001 인 기울기 하강을 사용하여 손실 최소화 사용"
   ]
  },
  {
   "cell_type": "code",
   "execution_count": 25,
   "metadata": {},
   "outputs": [],
   "source": [
    "optimizer = tf.train.GradientDescentOptimizer(learning_rate=0.001).minimize(loss)"
   ]
  },
  {
   "cell_type": "code",
   "execution_count": 22,
   "metadata": {},
   "outputs": [],
   "source": [
    "start = time.time()"
   ]
  },
  {
   "cell_type": "code",
   "execution_count": 26,
   "metadata": {},
   "outputs": [
    {
     "name": "stdout",
     "output_type": "stream",
     "text": [
      "Epoch 0: 1661.863764550287\n",
      "Epoch 1: 956.3224439573916\n",
      "Epoch 2: 844.6737683409139\n",
      "Epoch 3: 750.7312372197838\n",
      "Epoch 4: 667.659830722252\n",
      "Epoch 5: 594.1417484349327\n",
      "Epoch 6: 529.0787271179651\n",
      "Epoch 7: 471.5003584364135\n",
      "Epoch 8: 420.5458252520938\n",
      "Epoch 9: 375.45531067297253\n",
      "Epoch 10: 335.55436177954664\n",
      "Epoch 11: 300.24627770512666\n",
      "Epoch 12: 269.00374521501146\n",
      "Epoch 13: 241.3595776562824\n",
      "Epoch 14: 216.9003910217238\n",
      "Epoch 15: 195.25972397061292\n",
      "Epoch 16: 176.1137731664483\n",
      "Epoch 17: 159.17551683403158\n",
      "Epoch 18: 144.19069889799545\n",
      "Epoch 19: 130.93503690609023\n",
      "Epoch 20: 119.20935661137888\n",
      "Epoch 21: 108.83793506244884\n",
      "Epoch 22: 99.66458668207358\n",
      "Epoch 23: 91.55171666162971\n",
      "Epoch 24: 84.37658985632197\n",
      "Epoch 25: 78.03213362396008\n",
      "Epoch 26: 72.42178616552172\n",
      "Epoch 27: 67.46132107331957\n",
      "Epoch 28: 63.07563027821873\n",
      "Epoch 29: 59.19871881428714\n",
      "Epoch 30: 55.77163058824279\n",
      "Epoch 31: 52.742706123048954\n",
      "Epoch 32: 50.06563247971506\n",
      "Epoch 33: 47.70006537150391\n",
      "Epoch 34: 45.61017402416389\n",
      "Epoch 35: 43.763794843404014\n",
      "Epoch 36: 42.13259061904698\n",
      "Epoch 37: 40.692217106133775\n",
      "Epoch 38: 39.420219863367905\n",
      "Epoch 39: 38.297008645340895\n",
      "Epoch 40: 37.305592010505066\n",
      "Epoch 41: 36.43066341609841\n",
      "Epoch 42: 35.658454647898296\n",
      "Epoch 43: 34.977248985403655\n",
      "Epoch 44: 34.376551568753236\n",
      "Epoch 45: 33.846705867195695\n",
      "Epoch 46: 33.37967463995998\n",
      "Epoch 47: 32.9680108638946\n",
      "Epoch 48: 32.60548541990942\n",
      "Epoch 49: 32.28618434173986\n",
      "Epoch 50: 32.004961317298495\n",
      "Epoch 51: 31.75752976890163\n",
      "Epoch 52: 31.53978877073019\n",
      "Epoch 53: 31.34836144135732\n",
      "Epoch 54: 31.180118720635072\n",
      "Epoch 55: 31.03225782010038\n",
      "Epoch 56: 30.902463045723714\n",
      "Epoch 57: 30.788599823501748\n",
      "Epoch 58: 30.68872023182676\n",
      "Epoch 59: 30.60122912194102\n",
      "Epoch 60: 30.524589418089263\n",
      "Epoch 61: 30.457532704476954\n",
      "Epoch 62: 30.398964531451316\n",
      "Epoch 63: 30.34777825418737\n",
      "Epoch 64: 30.303121465726413\n",
      "Epoch 65: 30.264247165074092\n",
      "Epoch 66: 30.230395186190357\n",
      "Epoch 67: 30.200965440111528\n",
      "Epoch 68: 30.175501555469697\n",
      "Epoch 69: 30.153343991707324\n",
      "Epoch 70: 30.134226098457216\n",
      "Epoch 71: 30.117758308603477\n",
      "Epoch 72: 30.103543774372174\n",
      "Epoch 73: 30.091394110470336\n",
      "Epoch 74: 30.08093890536509\n",
      "Epoch 75: 30.072084357345624\n",
      "Epoch 76: 30.06452434975899\n",
      "Epoch 77: 30.0581486002297\n",
      "Epoch 78: 30.05278219980139\n",
      "Epoch 79: 30.04828310612785\n",
      "Epoch 80: 30.04458791257593\n",
      "Epoch 81: 30.041549566215345\n",
      "Epoch 82: 30.039046151249817\n",
      "Epoch 83: 30.037039793959796\n",
      "Epoch 84: 30.035464155240486\n",
      "Epoch 85: 30.034287342776263\n",
      "Epoch 86: 30.033386764163456\n",
      "Epoch 87: 30.03276857610855\n",
      "Epoch 88: 30.032388654677273\n",
      "Epoch 89: 30.032152204158926\n",
      "Epoch 90: 30.03209388247043\n",
      "Epoch 91: 30.03219517776896\n",
      "Epoch 92: 30.032402951199575\n",
      "Epoch 93: 30.03264380555698\n",
      "Epoch 94: 30.033044778692265\n",
      "Epoch 95: 30.03343712379727\n",
      "Epoch 96: 30.033913317535955\n",
      "Epoch 97: 30.03442924663878\n",
      "Epoch 98: 30.0349335548615\n",
      "Epoch 99: 30.03552558278714\n",
      "w: -6.070214, b: 84.929512\n",
      "Took: 73.043276 seconds\n"
     ]
    }
   ],
   "source": [
    "with tf.Session() as sess:\n",
    "    # Step 7: w , b 변수를 초기화\n",
    "    sess.run(tf.global_variables_initializer())\n",
    "    writer = tf.summary.FileWriter('./graphs/linear_reg', sess.graph)\n",
    "    \n",
    "    # Step 8: 100 epoch를 위한 Model 구성\n",
    "    for i in range(100):\n",
    "        sess.run(iterator.initializer) #iterator 초기화 \n",
    "        total_loss = 0\n",
    "        try:\n",
    "            while True:  #  무한 loop를 만들었다. \n",
    "                _, l = sess.run([optimizer, loss])\n",
    "                total_loss += l\n",
    "        except tf.errors.OutOfRangeError: # 끝에 도달하면 except 발생 시키고 빠져 나오게 되어 있다.\n",
    "            pass\n",
    "        # 1 epoch를 돌았다면\n",
    "        print('Epoch {0}: {1}'.format(i, total_loss/n_samples))\n",
    "        \n",
    "    # 모든 구문을 수행을 완료 하면 graph를 닫자.\n",
    "    writer.close()\n",
    "    \n",
    "    # Step 9: w, b 값을 출력 \n",
    "    w_out, b_out = sess.run([w, b])\n",
    "    print('w: %f, b: %f' %(w_out, b_out))\n",
    "print('Took: %f seconds' %(time.time() - start)) # 완료되는 시간을 확인"
   ]
  },
  {
   "cell_type": "markdown",
   "metadata": {},
   "source": [
    "### Graph"
   ]
  },
  {
   "cell_type": "markdown",
   "metadata": {},
   "source": [
    "![Alt_text](./03_images/02.png)"
   ]
  },
  {
   "cell_type": "markdown",
   "metadata": {},
   "source": [
    "### 결과 그리기"
   ]
  },
  {
   "cell_type": "code",
   "execution_count": 28,
   "metadata": {},
   "outputs": [
    {
     "data": {
      "image/png": "[encoded data removed]",
      "text/plain": [
       "<Figure size 432x288 with 1 Axes>"
      ]
     },
     "metadata": {},
     "output_type": "display_data"
    }
   ],
   "source": [
    "plt.plot(data[:,0], data[:,1], 'bo', label='Real data')\n",
    "plt.plot(data[:,0], data[:,0] * w_out + b_out, 'r', label='Predicted data with squared error')\n",
    "# plt.plot(data[:,0], data[:,0] * (-5.883589) + 85.124306, 'g', label='Predicted data with Huber loss')\n",
    "plt.legend()\n",
    "plt.show()"
   ]
  },
  {
   "cell_type": "code",
   "execution_count": null,
   "metadata": {},
   "outputs": [],
   "source": []
  }
 ],
 "metadata": {
  "kernelspec": {
   "display_name": "Python 3",
   "language": "python",
   "name": "python3"
  },
  "language_info": {
   "codemirror_mode": {
    "name": "ipython",
    "version": 3
   },
   "file_extension": ".py",
   "mimetype": "text/x-python",
   "name": "python",
   "nbconvert_exporter": "python",
   "pygments_lexer": "ipython3",
   "version": "3.6.4"
  }
 },
 "nbformat": 4,
 "nbformat_minor": 2
}
