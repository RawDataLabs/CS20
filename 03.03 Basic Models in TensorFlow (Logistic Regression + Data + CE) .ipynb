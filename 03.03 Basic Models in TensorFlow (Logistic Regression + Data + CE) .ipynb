{
 "cells": [
  {
   "cell_type": "markdown",
   "metadata": {},
   "source": [
    "# 03.03 Basic Models in TensorFlow (Logistic Regression + Data + CE) "
   ]
  },
  {
   "cell_type": "markdown",
   "metadata": {},
   "source": [
    "### MNIST DataSet"
   ]
  },
  {
   "cell_type": "markdown",
   "metadata": {},
   "source": [
    "![Alt_text](./03_images/05.png)"
   ]
  },
  {
   "cell_type": "markdown",
   "metadata": {},
   "source": [
    "X: 손으로 쓴 숫자 이미지  \n",
    "Y: 정답 값    \n",
    "이미지를 보고 숫자를 인지 하는 문제  "
   ]
  },
  {
   "cell_type": "markdown",
   "metadata": {},
   "source": [
    "### Model "
   ]
  },
  {
   "cell_type": "markdown",
   "metadata": {},
   "source": [
    "Inference: Y_predicted = softmax(X * w + b)  \n",
    "Cross entropy loss: -log(Y_predicted)  # 크로스 엔트로피 사용"
   ]
  },
  {
   "cell_type": "code",
   "execution_count": 29,
   "metadata": {},
   "outputs": [],
   "source": [
    "import os\n",
    "os.environ['TF_CPP_MIN_LOG_LEVEL'] = '2'\n",
    "\n",
    "import numpy as np\n",
    "import tensorflow as tf\n",
    "import time\n",
    "import gzip\n",
    "import shutil\n",
    "import struct\n",
    "import urllib"
   ]
  },
  {
   "cell_type": "markdown",
   "metadata": {},
   "source": [
    "### 모델에 대한 매개 변수 정의"
   ]
  },
  {
   "cell_type": "code",
   "execution_count": 30,
   "metadata": {},
   "outputs": [],
   "source": [
    "learning_rate = 0.01\n",
    "batch_size = 128\n",
    "n_epochs = 30\n",
    "n_train = 60000\n",
    "n_test = 10000"
   ]
  },
  {
   "cell_type": "markdown",
   "metadata": {},
   "source": [
    "### MNIST 가져오는 Fouction"
   ]
  },
  {
   "cell_type": "code",
   "execution_count": 31,
   "metadata": {},
   "outputs": [],
   "source": [
    "def safe_mkdir(path):\n",
    "    \"\"\" 디렉토리가 없으면 디렉토리를 만듭니다. \"\"\"\n",
    "    try:\n",
    "        os.mkdir(path)\n",
    "    except OSError:\n",
    "        pass"
   ]
  },
  {
   "cell_type": "code",
   "execution_count": 32,
   "metadata": {},
   "outputs": [],
   "source": [
    "def download_one_file(download_url, \n",
    "                    local_dest, \n",
    "                    expected_byte=None, \n",
    "                    unzip_and_remove=False):\n",
    "    \"\"\" \n",
    "    파일이 이미 존재하지 않는 경우. download_url에서 local_dest로 파일 다운로드 한다.\n",
    "    expected_byte가 제공되며 다운로드 한 파일의 바이트와 같습니다.\n",
    "    unzip_and_remove가 True이면 파일의 압축을 풀고 zip 파일을 제거합니다.\n",
    "    \"\"\"\n",
    "    if os.path.exists(local_dest) or os.path.exists(local_dest[:-3]):\n",
    "        print('%s already exists' %local_dest)\n",
    "    else:\n",
    "        print('Downloading %s' %download_url)\n",
    "        local_file, _ = urllib.request.urlretrieve(download_url, local_dest)\n",
    "        file_stat = os.stat(local_dest)\n",
    "        if expected_byte:\n",
    "            if file_stat.st_size == expected_byte:\n",
    "                print('Successfully downloaded %s' %local_dest)\n",
    "                if unzip_and_remove:\n",
    "                    with gzip.open(local_dest, 'rb') as f_in, open(local_dest[:-3],'wb') as f_out:\n",
    "                        shutil.copyfileobj(f_in, f_out)\n",
    "                    os.remove(local_dest)\n",
    "            else:\n",
    "                print('The downloaded file has unexpected number of bytes')"
   ]
  },
  {
   "cell_type": "code",
   "execution_count": 33,
   "metadata": {},
   "outputs": [],
   "source": [
    "def download_mnist(path):\n",
    "    \"\"\" \n",
    "    데이터 세트가 아직 다운로드되지 않은 경우 다운로드하고 압축 해제합니다.\n",
    "    다운로드는  http://yann.lecun.com/exdb/mnist 해당 Site 에서 합니다.\n",
    "    \"\"\"\n",
    "    safe_mkdir(path)\n",
    "    url = 'http://yann.lecun.com/exdb/mnist'\n",
    "    filenames = ['train-images-idx3-ubyte.gz',\n",
    "                'train-labels-idx1-ubyte.gz',\n",
    "                't10k-images-idx3-ubyte.gz',\n",
    "                't10k-labels-idx1-ubyte.gz']\n",
    "    expected_bytes = [9912422, 28881, 1648877, 4542]\n",
    "\n",
    "    for filename, byte in zip(filenames, expected_bytes):\n",
    "        download_url = os.path.join(url, filename)\n",
    "        local_dest = os.path.join(path, filename)\n",
    "        download_one_file(download_url, local_dest, byte, True)"
   ]
  },
  {
   "cell_type": "code",
   "execution_count": 34,
   "metadata": {},
   "outputs": [],
   "source": [
    "def read_mnist(path, flatten=True, num_train=55000):\n",
    "    \"\"\"\n",
    "     데이터가 경로에 저장되어 있으면 mnist 데이터 세트를 읽습니다.  \n",
    "     그리고 numpy 배열의 두 튜플을 반환합니다.  \n",
    "     ((train_imgs, train_labels), (test_imgs, test_labels))  \n",
    "    \"\"\"\n",
    "    imgs, labels = parse_data(path, 'train', flatten)\n",
    "    indices = np.random.permutation(labels.shape[0]) # 셔플 기능을 제공한다.\n",
    "    train_idx, val_idx = indices[:num_train], indices[num_train:]\n",
    "    train_img, train_labels = imgs[train_idx, :], labels[train_idx, :]\n",
    "    val_img, val_labels = imgs[val_idx, :], labels[val_idx, :]\n",
    "    test = parse_data(path, 't10k', flatten)\n",
    "    return (train_img, train_labels), (val_img, val_labels), test # train / test / validation 값들을 넘겨준다."
   ]
  },
  {
   "cell_type": "code",
   "execution_count": 35,
   "metadata": {},
   "outputs": [],
   "source": [
    "def parse_data(path, dataset, flatten):\n",
    "    if dataset != 'train' and dataset != 't10k': # 에러 처리 구문\n",
    "        raise NameError('dataset must be train or t10k')\n",
    "\n",
    "    label_file = os.path.join(path, dataset + '-labels-idx1-ubyte') # Label 관련 전체 경로 가져오기\n",
    "    with open(label_file, 'rb') as file:\n",
    "        _, num = struct.unpack(\">II\", file.read(8))\n",
    "        labels = np.fromfile(file, dtype=np.int8) #int8\n",
    "        new_labels = np.zeros((num, 10))\n",
    "        new_labels[np.arange(num), labels] = 1\n",
    "    \n",
    "    img_file = os.path.join(path, dataset + '-images-idx3-ubyte')\n",
    "    with open(img_file, 'rb') as file:\n",
    "        _, num, rows, cols = struct.unpack(\">IIII\", file.read(16))\n",
    "        imgs = np.fromfile(file, dtype=np.uint8).reshape(num, rows, cols) #uint8\n",
    "        imgs = imgs.astype(np.float32) / 255.0\n",
    "        if flatten:\n",
    "            imgs = imgs.reshape([num, -1])\n",
    "\n",
    "    return imgs, new_labels  # image 와 label을 처리 해서 넘겨 준다."
   ]
  },
  {
   "cell_type": "code",
   "execution_count": 37,
   "metadata": {},
   "outputs": [],
   "source": [
    "def show(image):\n",
    "    \"\"\"\n",
    "    픽셀 데이터의 2차원 배열을 생성 합니다. \n",
    "    \"\"\"\n",
    "    plt.imshow(image, cmap='gray')\n",
    "    plt.show()"
   ]
  },
  {
   "cell_type": "markdown",
   "metadata": {},
   "source": [
    "### Step 1: 데이터 읽기"
   ]
  },
  {
   "cell_type": "code",
   "execution_count": 52,
   "metadata": {},
   "outputs": [
    {
     "name": "stdout",
     "output_type": "stream",
     "text": [
      "data/mnist/train-images-idx3-ubyte.gz already exists\n",
      "data/mnist/train-labels-idx1-ubyte.gz already exists\n",
      "data/mnist/t10k-images-idx3-ubyte.gz already exists\n",
      "data/mnist/t10k-labels-idx1-ubyte.gz already exists\n"
     ]
    }
   ],
   "source": [
    "mnist_folder = 'data/mnist'\n",
    "download_mnist(mnist_folder)\n",
    "train, val, test = read_mnist(mnist_folder, flatten=True)"
   ]
  },
  {
   "cell_type": "markdown",
   "metadata": {},
   "source": [
    "### Step 2: 반복 가능한 데이터 만들기"
   ]
  },
  {
   "cell_type": "code",
   "execution_count": 63,
   "metadata": {},
   "outputs": [],
   "source": [
    "train_data = tf.data.Dataset.from_tensor_slices(train)\n",
    "train_data = train_data.shuffle(10000) # 버퍼 사이즈를 주고 데이터를 썩는다.\n",
    "train_data = train_data.batch(batch_size)"
   ]
  },
  {
   "cell_type": "code",
   "execution_count": 72,
   "metadata": {},
   "outputs": [
    {
     "data": {
      "text/plain": [
       "(TensorShape([Dimension(None), Dimension(784)]),\n",
       " TensorShape([Dimension(None), Dimension(10)]))"
      ]
     },
     "execution_count": 72,
     "metadata": {},
     "output_type": "execute_result"
    }
   ],
   "source": [
    "train_data.output_types\n",
    "train_data.output_shapes # one hot 으로 구성 되어 있어서 10차원이다 ."
   ]
  },
  {
   "cell_type": "code",
   "execution_count": 65,
   "metadata": {},
   "outputs": [],
   "source": [
    "test_data = tf.data.Dataset.from_tensor_slices(test)\n",
    "test_data = test_data.batch(batch_size)"
   ]
  },
  {
   "cell_type": "code",
   "execution_count": 73,
   "metadata": {},
   "outputs": [
    {
     "data": {
      "text/plain": [
       "(TensorShape([Dimension(None), Dimension(784)]),\n",
       " TensorShape([Dimension(None), Dimension(10)]))"
      ]
     },
     "execution_count": 73,
     "metadata": {},
     "output_type": "execute_result"
    }
   ],
   "source": [
    "test_data.output_types\n",
    "test_data.output_shapes"
   ]
  },
  {
   "cell_type": "code",
   "execution_count": 76,
   "metadata": {},
   "outputs": [],
   "source": [
    "iterator = tf.data.Iterator.from_structure(train_data.output_types, train_data.output_shapes)\n",
    "img, label = iterator.get_next()  # 반복적으로 가져오는 부분"
   ]
  },
  {
   "cell_type": "code",
   "execution_count": 87,
   "metadata": {},
   "outputs": [],
   "source": [
    "train_init = iterator.make_initializer(train_data) # Train_data 초기화 한다 \n",
    "test_init = iterator.make_initializer(test_data) # Test_data 초기화 한다   여기 주목하자 global_variables_initializer가 없다."
   ]
  },
  {
   "cell_type": "markdown",
   "metadata": {},
   "source": [
    "### Step 3: 가중치 와 편향을 만든다."
   ]
  },
  {
   "cell_type": "code",
   "execution_count": 78,
   "metadata": {},
   "outputs": [],
   "source": [
    "# w는 평균이 0이고 표준편차가 0.01인 변수로 초기화 한다. \n",
    "# b는 0으로 초기화 한다.\n",
    "# w는 X 와 Y의 차원에 의존하므로 Y = tf.matmul(X, w) 한다.\n",
    "# b는 Y에 따라 다르다 .\n",
    "w = tf.get_variable(name='weights', shape=(784, 10), initializer=tf.random_normal_initializer(0, 0.01))\n",
    "b = tf.get_variable(name='bias', shape=(1, 10), initializer=tf.zeros_initializer())"
   ]
  },
  {
   "cell_type": "markdown",
   "metadata": {},
   "source": [
    "### Step 4: 모델을 만든다."
   ]
  },
  {
   "cell_type": "markdown",
   "metadata": {},
   "source": [
    "### Model  \n",
    "Inference: Y_predicted = softmax(X * w + b)  \n",
    "\n",
    "Cross entropy loss: -log(Y_predicted)  \n",
    "\n",
    "![Alt_text](./03_images/06.png)"
   ]
  },
  {
   "cell_type": "code",
   "execution_count": 80,
   "metadata": {},
   "outputs": [],
   "source": [
    "# 로그를 반환하는 모델\n",
    "# 로그는 나중에 softmax 계층을 통과한다.\n",
    "logits = tf.matmul(img, w) + b"
   ]
  },
  {
   "cell_type": "markdown",
   "metadata": {},
   "source": [
    "### Step 5: 손실 함수 정의"
   ]
  },
  {
   "cell_type": "code",
   "execution_count": 83,
   "metadata": {},
   "outputs": [],
   "source": [
    "# 손실 함수를 softmax _cross_entropy_with_logits로 사용한다. \n",
    "entropy = tf.nn.softmax_cross_entropy_with_logits_v2(logits=logits, labels=label, name='entropy') #  최신 버젼이 V2라 이것을 사용한다. 기존의 함수는 제거된다고 한다. \n",
    "loss = tf.reduce_mean(entropy, name='loss') # 배치에 대한 평균을 계산 한다 . (텐서의 차원에서 요소의 평균을 계산)"
   ]
  },
  {
   "cell_type": "markdown",
   "metadata": {},
   "source": [
    "### Step 6: 학습 최적화를 설정한다."
   ]
  },
  {
   "cell_type": "code",
   "execution_count": 84,
   "metadata": {},
   "outputs": [],
   "source": [
    "# 손실을 최소화하기 위해 0.01의 학습 속도로 기울기 하강을 사용\n",
    "optimizer = tf.train.AdamOptimizer(learning_rate).minimize(loss)"
   ]
  },
  {
   "cell_type": "markdown",
   "metadata": {},
   "source": [
    "### Step 7: 테스트 세트로 정확도를 계산한다. "
   ]
  },
  {
   "cell_type": "code",
   "execution_count": 85,
   "metadata": {},
   "outputs": [],
   "source": [
    "preds = tf.nn.softmax(logits)\n",
    "correct_preds = tf.equal(tf.argmax(preds, 1), tf.argmax(label, 1)) # 정답을 예측했다면 1을 아니면 0을 반환 한다.\n",
    "accuracy = tf.reduce_sum(tf.cast(correct_preds, tf.float32)) # 정확도에 지속적으로 더해 준다."
   ]
  },
  {
   "cell_type": "code",
   "execution_count": 88,
   "metadata": {},
   "outputs": [
    {
     "name": "stdout",
     "output_type": "stream",
     "text": [
      "Average loss epoch 0: 0.3676462846786477\n",
      "Average loss epoch 1: 0.294250045352897\n",
      "Average loss epoch 2: 0.2849809317914552\n",
      "Average loss epoch 3: 0.2809635798078637\n",
      "Average loss epoch 4: 0.27386363545476006\n",
      "Average loss epoch 5: 0.2701791577907496\n",
      "Average loss epoch 6: 0.272375334470078\n",
      "Average loss epoch 7: 0.2680079747078031\n",
      "Average loss epoch 8: 0.2697126157928345\n",
      "Average loss epoch 9: 0.2651429588191731\n",
      "Average loss epoch 10: 0.2663586772978306\n",
      "Average loss epoch 11: 0.2632614758298841\n",
      "Average loss epoch 12: 0.2613014935580797\n",
      "Average loss epoch 13: 0.2587680497834849\n",
      "Average loss epoch 14: 0.26228235140442846\n",
      "Average loss epoch 15: 0.2558543503630993\n",
      "Average loss epoch 16: 0.25939700213629147\n",
      "Average loss epoch 17: 0.2572868493060733\n",
      "Average loss epoch 18: 0.2615606948906599\n",
      "Average loss epoch 19: 0.2586500890899536\n",
      "Average loss epoch 20: 0.25568016016379347\n",
      "Average loss epoch 21: 0.256738637526368\n",
      "Average loss epoch 22: 0.2578590102667032\n",
      "Average loss epoch 23: 0.25596492590252745\n",
      "Average loss epoch 24: 0.2545985231565875\n",
      "Average loss epoch 25: 0.2529332037408685\n",
      "Average loss epoch 26: 0.25385734534194304\n",
      "Average loss epoch 27: 0.2552276525473179\n",
      "Average loss epoch 28: 0.25454799139568973\n",
      "Average loss epoch 29: 0.2533962876990784\n",
      "Total time: 22.41644525527954 seconds\n",
      "Accuracy 0.9163\n"
     ]
    }
   ],
   "source": [
    "writer = tf.summary.FileWriter('./graphs/logreg', tf.get_default_graph())\n",
    "with tf.Session() as sess:\n",
    "    start_time = time.time()\n",
    "    sess.run(tf.global_variables_initializer())\n",
    "    \n",
    "    # 학습 모델 n_epochs 시간\n",
    "    for i in range(n_epochs):\n",
    "        sess.run(train_init) # train_data 샘플을 그린다.\n",
    "        total_loss = 0\n",
    "        n_batches = 0\n",
    "        try:\n",
    "            while True:\n",
    "                _, l = sess.run([optimizer, loss])\n",
    "                total_loss += l\n",
    "                n_batches += 1\n",
    "        except tf.errors.OutOfRangeError: #  무한 루프를 빠져나오는 부분\n",
    "            pass\n",
    "        \n",
    "        print('Average loss epoch {0}: {1}'.format(i, total_loss/n_batches))\n",
    "    print('Total time: {0} seconds'.format(time.time() - start_time))\n",
    "    \n",
    "    # 테스트 모델\n",
    "    sess.run(test_init) # test_data 샘플을 그린다. \n",
    "    total_correct_preds = 0\n",
    "    try:\n",
    "        while True:\n",
    "            accuracy_batch = sess.run(accuracy)\n",
    "            total_correct_preds += accuracy_batch\n",
    "    except tf.errors.OutOfRangeError:\n",
    "        pass\n",
    "    \n",
    "    print('Accuracy {0}'.format(total_correct_preds/n_test)) # 왜 10000을 하지\n",
    "writer.close()"
   ]
  },
  {
   "cell_type": "code",
   "execution_count": null,
   "metadata": {},
   "outputs": [],
   "source": []
  }
 ],
 "metadata": {
  "kernelspec": {
   "display_name": "Python 3",
   "language": "python",
   "name": "python3"
  },
  "language_info": {
   "codemirror_mode": {
    "name": "ipython",
    "version": 3
   },
   "file_extension": ".py",
   "mimetype": "text/x-python",
   "name": "python",
   "nbconvert_exporter": "python",
   "pygments_lexer": "ipython3",
   "version": "3.6.4"
  }
 },
 "nbformat": 4,
 "nbformat_minor": 2
}
